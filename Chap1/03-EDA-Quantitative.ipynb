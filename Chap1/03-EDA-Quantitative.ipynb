{
  "cells": [
    {
      "cell_type": "markdown",
      "metadata": {
        "id": "173b5c5f-ce8e-4ec8-acc4-90252f876600"
      },
      "source": [
        "Click [![Open In Colab](https://colab.research.google.com/assets/colab-badge.svg)](https://githubtocolab.com/CU-Denver-MathStats-OER/Statistical-Theory/blob/main/Chap1//03-EDA-Quantitative.ipynb) to open interactive version of the full text section.\n"
      ],
      "id": "173b5c5f-ce8e-4ec8-acc4-90252f876600"
    },
    {
      "cell_type": "markdown",
      "metadata": {
        "id": "9675d840-718c-4a8b-864e-8100e8827eac"
      },
      "source": [
        "# <a name=\"03intro\">1.3: Exploring Quantitative Data</a>\n",
        "\n",
        "---\n",
        "\n",
        "\n",
        "Additional Reading:\n",
        "\n",
        "-   See [Overview of Plotting Data in R](https://githubtocolab.com/CU-Denver-MathStats-OER/Statistical-Theory/blob/main/Appendix/Overview-of-Plots.ipynb) for further reading and examples about plotting in R.\n",
        "-   See [Fundamentals of Working with Data](https://githubtocolab.com/CU-Denver-MathStats-OER/Statistical-Theory/blob/main/Appendix/Intro-to-Vectors-Dataframes.ipynb) for more information about data types and structures in R.\n",
        "-   The [R Graph Gallery](https://r-graph-gallery.com/) has examples of many other types of graphs.\n"
      ],
      "id": "9675d840-718c-4a8b-864e-8100e8827eac"
    },
    {
      "cell_type": "markdown",
      "source": [
        "# <a name=\"03variables\">Types of Variables</a>\n",
        "\n",
        "---\n",
        "\n",
        "In statistics,  <font color=\"dodgerblue\">**variables** </font> are the attributes measured or collected in data. We refer to them as variables since the values or classes of attributes typically vary from observation to observation. The term variable is used differently in statistics from the notion of a variable in algebra. There are two types of variables in statistics:\n",
        "\n",
        "-   If a variable is measured or counted by a number, it is called a <font color=\"dodgerblue\">**quantitative** </font> or <font color=\"dodgerblue\">**numerical** </font> variable.\n",
        "  -   Quantitative variables may be <font color=\"dodgerblue\">**discrete (integers)**</font> or <font color=\"dodgerblue\">**continuous (decimals)**</font>.\n",
        "\n",
        "-   If a variable groups observations into different categories or rankings, it is a <font color=\"dodgerblue\">**qualitative** </font> or <font color=\"dodgerblue\">**categorical** </font> variable.\n",
        "  -   The different categories of a qualitative variable are called <font color=\"dodgerblue\">**levels** </font> or <font color=\"dodgerblue\">**classes** </font>.\n",
        "\n",
        "The type of statistical analysis we can do depends on whether:\n",
        "\n",
        "-   We are investigating a single variable, or looking for an association between multiple variables.\n",
        "-   The variable(s) are quantitative or categorical.\n",
        "-   The data satisfies certain assumptions.\n",
        "\n",
        "In our work with [Exploring Categorical\n",
        "Data](https://githubtocolab.com/CU-Denver-MathStats-OER/Statistical-Theory/blob/main/Chap1/02-EDA-Categorical.ipynb), we performed an initial summary of the categorical variables in the `storms` data set. Today, we will investigate how to numerically and visually summarize quantitative variables.\n",
        "\n"
      ],
      "metadata": {
        "id": "xUc9UEo_nzrk"
      },
      "id": "xUc9UEo_nzrk"
    },
    {
      "cell_type": "markdown",
      "source": [
        "# <a name=\"03data\">Getting to Know Our Data</a>\n",
        "\n",
        "---\n",
        "\n",
        "The `dplyr` package contains a data set from the [NOAA Hurricane Best\n",
        "Track Data](https://www.nhc.noaa.gov/data/#hurdat) that contains data on\n",
        "the following attributes of tracked North Atlantic storms since 1975:\n",
        "\n",
        "-   Storm name: `name`\n",
        "-   Date and time: `year`, `month`, `day`, and `hour`\n",
        "-   Storm position: `lat` and `long`\n",
        "-   Storm classification: `status`\n",
        "-   Category of hurricane: `category` (non-hurricanes are `NA`)\n",
        "-   Wind speed (in knots): `wind`\n",
        "-   Pressure (in millibars): `pressure`\n",
        "-   Tropical storm force diameter (in nautical miles): `tropicalstorm_force_diameter`\n",
        "-   Hurricane force diameter (in nautical miles): `hurricane_force_diameter`\n",
        "\n",
        "See [Exploring Categorical Data](https://githubtocolab.com/CU-Denver-MathStats-OER/Statistical-Theory/blob/main/Chap1/02-EDA-Categorical.ipynb) for a refresher on our initial exploration with the `storms` data frame.\n",
        "\n"
      ],
      "metadata": {
        "id": "bVyOMZpVe7TV"
      },
      "id": "bVyOMZpVe7TV"
    },
    {
      "cell_type": "markdown",
      "source": [
        "## <a name=\"03load\">Loading Required Package</a>\n",
        "\n",
        "---\n",
        "\n",
        "In order to access the `storms` data frame in the `dplyr` package, we first load the package with the `library()` function."
      ],
      "metadata": {
        "id": "kh0efT-_hcOH"
      },
      "id": "kh0efT-_hcOH"
    },
    {
      "cell_type": "code",
      "execution_count": null,
      "metadata": {
        "id": "226c6336-355d-4429-8d21-3ffb73a43572"
      },
      "outputs": [],
      "source": [
        "library(dplyr)  # load dplyr package"
      ],
      "id": "226c6336-355d-4429-8d21-3ffb73a43572"
    },
    {
      "cell_type": "markdown",
      "metadata": {
        "id": "a0d5a90b-e9b8-4a4b-95d9-222bff84c962"
      },
      "source": [
        "## <a name=\"03help\">Help Documentation for `storms`</a>\n",
        "\n",
        "---\n",
        "\n",
        "The `?` help operator and `help()` function provide access to the help manuals for R functions, data sets, and other objects. If at any point we want to learn more about data or a function used in this notebook, we can use the help operator. For example, `?typeof`, `?str`, `?hist`, and `?boxplot` will open a help tab with further details about each of function.\n",
        "\n",
        "-   **Run the code cell below to access the help documentation for the `storms` data set.**"
      ],
      "id": "a0d5a90b-e9b8-4a4b-95d9-222bff84c962"
    },
    {
      "cell_type": "code",
      "execution_count": null,
      "metadata": {
        "id": "dbfb5035-bcd0-45d7-9379-33b60247cd55"
      },
      "outputs": [],
      "source": [
        "?storms  # open help tab"
      ],
      "id": "dbfb5035-bcd0-45d7-9379-33b60247cd55"
    },
    {
      "cell_type": "markdown",
      "metadata": {
        "id": "827bb95f-104a-4db5-a4d3-4241de6db464"
      },
      "source": [
        "## <a name=\"03q1\">Question 1</a>\n",
        "\n",
        "---\n",
        "\n",
        "List all the quantitative variables in `storms`. Which are being stored\n",
        "as `integer`, and which are stored as `double` (decimals)?\n",
        "\n",
        "- You can edit, run  and rerun the `typeof()` function in the first code cell below to help identify the data types of individual variables in `storms`.\n",
        "- You can use the `str()` function in the second code cell to identify the data types of all variables at once."
      ],
      "id": "827bb95f-104a-4db5-a4d3-4241de6db464"
    },
    {
      "cell_type": "code",
      "execution_count": null,
      "metadata": {
        "id": "49b82443-299d-4e4e-8f7a-d5f20e31ac8f"
      },
      "outputs": [],
      "source": [
        "typeof(storms$year)"
      ],
      "id": "49b82443-299d-4e4e-8f7a-d5f20e31ac8f"
    },
    {
      "cell_type": "code",
      "source": [
        "str(storms)"
      ],
      "metadata": {
        "id": "AbZ0tjRHvymD"
      },
      "id": "AbZ0tjRHvymD",
      "execution_count": null,
      "outputs": []
    },
    {
      "cell_type": "markdown",
      "metadata": {
        "id": "f33521e7-be3a-4ec9-8304-5903325eb71f"
      },
      "source": [
        "### <a name=\"03sol1\">Solution to Question 1</a>\n",
        "\n",
        "---\n",
        "\n",
        "<br> <br> <br>\n",
        "  \n",
        "\n"
      ],
      "id": "f33521e7-be3a-4ec9-8304-5903325eb71f"
    },
    {
      "cell_type": "markdown",
      "source": [
        "## <a name=\"03q2\">Question 2</a>\n",
        "\n",
        "---\n",
        "\n",
        "What wind speeds are classified as a Category 2 hurricane?\n",
        "\n",
        "### <a name=\"03sol2\">Solution to Question 2</a>\n",
        "\n",
        "---\n",
        "\n",
        "<br> <br> <br>\n",
        "  \n",
        "  \n",
        "\n"
      ],
      "metadata": {
        "id": "1KcE3yYooSjs"
      },
      "id": "1KcE3yYooSjs"
    },
    {
      "cell_type": "markdown",
      "source": [
        "## <a name=\"03q3\">Question 3</a>\n",
        "\n",
        "---\n",
        "\n",
        "What does the variable `tropicalstorm_force_diameter` measure? What does it mean if a storm observation has a 0 for `tropicalstorm_force_diameter`?\n",
        "\n",
        "### <a name=\"03sol3\">Solution to Question 3</a>\n",
        "\n",
        "---\n",
        "\n",
        "<br> <br> <br>\n",
        "  \n",
        "\n"
      ],
      "metadata": {
        "id": "km8Dcx_toteA"
      },
      "id": "km8Dcx_toteA"
    },
    {
      "cell_type": "markdown",
      "source": [
        "## <a name=\"03q4\">Question 4</a>\n",
        "\n",
        "---\n",
        "\n",
        "Enter comments in the code cell below to help describe what each command performs. Then run the `str()` function after running the commands to see the updated data structure of `storms`.\n",
        "\n",
        "### <a name=\"03sol4\">Solution to Question 4</a>\n",
        "\n",
        "---"
      ],
      "metadata": {
        "id": "T6XhLOwrovkK"
      },
      "id": "T6XhLOwrovkK"
    },
    {
      "cell_type": "code",
      "execution_count": null,
      "metadata": {
        "id": "affea945-3ac1-42fb-833c-db00ba82db1c"
      },
      "outputs": [],
      "source": [
        "# enter your comments after each #\n",
        "storms$year <- as.integer(storms$year)  #\n",
        "storms$month <- as.integer(storms$month)  #\n",
        "storms$hour <- as.integer(storms$hour)  #\n",
        "storms$category <- factor(storms$category)  #"
      ],
      "id": "affea945-3ac1-42fb-833c-db00ba82db1c"
    },
    {
      "cell_type": "code",
      "execution_count": null,
      "metadata": {
        "id": "c73c3d04-0f73-4b87-a295-436ad7625832"
      },
      "outputs": [],
      "source": [
        "# view the resulting data structure\n",
        "str(storms)"
      ],
      "id": "c73c3d04-0f73-4b87-a295-436ad7625832"
    },
    {
      "cell_type": "markdown",
      "metadata": {
        "id": "9ee907a4-677b-4e88-b98a-15bc1656e66a"
      },
      "source": [
        "# <a name=\"03summary\">Summarizing Categorical Data</a>\n",
        "\n",
        "---\n",
        "\n",
        "When we analyze the categorical variables in `storms`, we use counts and proportions. In the table created by the code cell below, we see how\n",
        "many observations there are in each storm classification."
      ],
      "id": "9ee907a4-677b-4e88-b98a-15bc1656e66a"
    },
    {
      "cell_type": "code",
      "execution_count": null,
      "metadata": {
        "id": "162cb1fc-e8ed-45f8-b7d4-a7c40381c916"
      },
      "outputs": [],
      "source": [
        "tbl.status <- table(storms$status) # store counts for each storm classification\n",
        "tbl.status  # print table to screen"
      ],
      "id": "162cb1fc-e8ed-45f8-b7d4-a7c40381c916"
    },
    {
      "cell_type": "markdown",
      "metadata": {
        "id": "a5540a26-7537-4e86-b188-41e5c951f382"
      },
      "source": [
        "The code cell below gives the proportion of storms in the data are in each storm classification."
      ],
      "id": "a5540a26-7537-4e86-b188-41e5c951f382"
    },
    {
      "cell_type": "code",
      "execution_count": null,
      "metadata": {
        "id": "e151305e-f2bb-4909-b3e4-66be61fece7e"
      },
      "outputs": [],
      "source": [
        "# table of counts for each storm classification\n",
        "prop.table(tbl.status)"
      ],
      "id": "e151305e-f2bb-4909-b3e4-66be61fece7e"
    },
    {
      "cell_type": "markdown",
      "metadata": {
        "id": "00972358-135d-4f68-8cc4-9985bcebc9cf"
      },
      "source": [
        "We used bar charts and pie charts to visualize the distribution and relations between categorical variables."
      ],
      "id": "00972358-135d-4f68-8cc4-9985bcebc9cf"
    },
    {
      "cell_type": "code",
      "execution_count": null,
      "metadata": {
        "id": "672386ee-6719-49e2-b40b-2caa6f3bc5d6"
      },
      "outputs": [],
      "source": [
        "plot(storms$category,  # categorical data\n",
        "     main = \"Hurricanes by Category\",  # main title\n",
        "     xlab = \"Hurricane Category\",  # horizontal axis label\n",
        "     ylab = \"Frequency\",  # vertical axis label\n",
        "     cex.lab=1.5, cex.axis=1.5, cex.main=1.5,  # increase font size\n",
        "     col = \"steelblue\")  # fill color of bars)"
      ],
      "id": "672386ee-6719-49e2-b40b-2caa6f3bc5d6"
    },
    {
      "cell_type": "markdown",
      "metadata": {
        "id": "6c2242e6-c882-44a3-b842-bfc4ee267a0f"
      },
      "source": [
        "-   <font color=\"tomato\">**For quantitative variables, such as wind speed (`wind`), counting and proportions are not as appropriate or useful.**</font>\n",
        "-   <font color=\"dodgerblue\">**We get a better understanding of a quantitative variable by describing where the values are centered and the spread of the values.**</font>\n",
        "-   Similarly, a good visualization for a quantitative variable will help illustrate where the values are centered, how variable (spread out) the values are, and other useful properties.\n",
        "\n"
      ],
      "id": "6c2242e6-c882-44a3-b842-bfc4ee267a0f"
    },
    {
      "cell_type": "markdown",
      "source": [
        "# <a name=\"03plot\">Plotting Quantitative Data</a>\n",
        "\n",
        "---\n",
        "\n",
        "Additional resources for help with plotting data:\n",
        "\n",
        "-   See [Overview of Plotting Data in R](https://githubtocolab.com/CU-Denver-MathStats-OER/Statistical-Theory/blob/main/Appendix/Overview-of-Plots.ipynb) for further reading and examples about plotting in R.\n",
        "-   The [R Graph Gallery](https://r-graph-gallery.com/) has examples of many other types of graphs.\n",
        "\n"
      ],
      "metadata": {
        "id": "N_B8YwUOpzex"
      },
      "id": "N_B8YwUOpzex"
    },
    {
      "cell_type": "markdown",
      "source": [
        "## <a name=\"03hist\">Histograms</a>\n",
        "\n",
        "---\n",
        "\n",
        "A  <font color=\"dodgerblue\">**histogram** </font> is special bar chart we use to display the distribution of values for a quantitative variable.\n",
        "\n",
        "-   We first group the values into different ranges of values called <font color=\"dodgerblue\">**bins** </font> of equal width.\n",
        "    -   This essentially converts the quantitative variable to an ordinal categorical variable with with each bin representing a different level.\n",
        "    -   Consider the quantitative variable `wind`. We can use bin ranges such as 0-10 knots, 10-20 knots, … , 160-170 knots.\n",
        "      -   Each bin range should have the same width.\n",
        "      -   The bins do not overlap.\n",
        "      -   The ordering of the bins is very important.\n",
        "-   Then we count how many values in the data are in each bin.\n",
        "-   A histogram is a bar chart that represents the number of values that are in each bin range.\n",
        "-   Values of the quantitative variable are measured on the horizontal axis.\n",
        "-   The height of the bars over each bin range is the number of values (or frequency) in each bin range.\n",
        "-   **By default, the counts are right closed.** For example, a wind value of 20 knots would be counted in the bin range 10-20 knots and not counted in the bin range 20-30 knots.\n",
        "-   A histogram should not have an spaces between consecutive bars. Empty space means no values are in that bin range.\n",
        "-    <font color=\"dodgerblue\">**The R function `hist(x, [options])` creates a histogram.** </font>\n",
        "-   Run `?hist` for more information about the available options for customizing a histogram, some of which are illustrated in the code cell below."
      ],
      "metadata": {
        "id": "2k7Xr9diqDhn"
      },
      "id": "2k7Xr9diqDhn"
    },
    {
      "cell_type": "code",
      "execution_count": null,
      "metadata": {
        "id": "c779cddb-c082-4ece-a7b4-400bdf7498ef"
      },
      "outputs": [],
      "source": [
        "# create a histogram\n",
        "hist(storms$wind,  # vector of values to plot\n",
        "     breaks = 15,  # number of bin ranges to use\n",
        "     xlab = \"wind speed (in knots)\",   # x-axis label\n",
        "     xlim = c(0,200),  # sets window for x-axis\n",
        "     ylab = \"Frequency\",  # y-axis label\n",
        "     ylim = c(0,5000),  # sets window for y-axis\n",
        "     main = \"Distribution of Storm Wind Speed\",  # main label\n",
        "     cex.lab=1.5, cex.axis=1.5, cex.main=1.5,  # increase font size\n",
        "     col = \"steelblue\")  # fill color of bars"
      ],
      "id": "c779cddb-c082-4ece-a7b4-400bdf7498ef"
    },
    {
      "cell_type": "markdown",
      "metadata": {
        "id": "34cd69fb-34de-4efa-84d7-3fe205f343bc"
      },
      "source": [
        "## <a name=\"03q5\">Question 5</a>\n",
        "\n",
        "---\n",
        "\n",
        "Based on the histogram above, approximately how many storms have a wind\n",
        "speed less than or equal to 40 knots?\n",
        "\n",
        "### <a name=\"03sol5\">Solution to Question 5</a>\n",
        "\n",
        "---\n",
        "\n",
        "<br> <br> <br>\n",
        "  \n",
        "  \n",
        "  \n",
        "\n"
      ],
      "id": "34cd69fb-34de-4efa-84d7-3fe205f343bc"
    },
    {
      "cell_type": "markdown",
      "source": [
        "## <a name=\"03q5\">Question 6</a>\n",
        "\n",
        "---\n",
        "\n",
        "The code cell below can help us check our answer.\n",
        "\n",
        "1.  Explain what operation(s) the command in the code cell below.\n",
        "    Running the code cell and compare the last 10 entries in the vector\n",
        "    `le.40` and the vector `storms$wind` to help determine your answer.\n",
        "\n",
        "2.  Then run and explain what the second code cell below does. *Hint: R\n",
        "    reads the logical `TRUE` as the number 1 and `FALSE` as the number\n",
        "    0.*\n",
        "\n",
        "3.  How accurate was your previous answer in [Question 5](#03q5)?\n",
        "\n",
        "### <a name=\"03sol6\">Solution to Question 6</a>\n",
        "\n",
        "---\n",
        "\n",
        "1.  Enter comment in first code cell.\n",
        "\n",
        "2.  Enter comment in second code cell.\n",
        "\n",
        "3.  How accurate was your answer in [Question 5](#03q5)?"
      ],
      "metadata": {
        "id": "nSMqI0jGzges"
      },
      "id": "nSMqI0jGzges"
    },
    {
      "cell_type": "code",
      "execution_count": null,
      "metadata": {
        "id": "9ec61adf-a826-4426-8b4e-5ad41e3a29ce"
      },
      "outputs": [],
      "source": [
        "le.40 <- storms$wind <= 40  # ??\n",
        "\n",
        "tail(storms$wind, 10)  # prints last 10 rows of wind speed vector\n",
        "tail(le.40, 10)  # prints last 10 rows of logical vector le.40"
      ],
      "id": "9ec61adf-a826-4426-8b4e-5ad41e3a29ce"
    },
    {
      "cell_type": "code",
      "execution_count": null,
      "metadata": {
        "id": "8a850223-eeca-4972-b790-e97787c4fa10"
      },
      "outputs": [],
      "source": [
        "# enter comment to interpret this command\n",
        "sum(le.40)  # ??"
      ],
      "id": "8a850223-eeca-4972-b790-e97787c4fa10"
    },
    {
      "cell_type": "markdown",
      "metadata": {
        "id": "881002f0-18ea-4da1-98a7-8d71a179d80f"
      },
      "source": [
        "### <a name=\"03number-bins\">Changing the Number of Bins</a>\n",
        "\n",
        "---\n",
        "\n",
        "A histogram can illustrate the general shape of the distribution of\n",
        "quantitative variable; however, the number of breaks we use can have a\n",
        "substantial impact.\n",
        "\n",
        "-   If we include too few bins, we do not get much detail, and we may\n",
        "    even get a misleading picture.\n",
        "-   If we include too many bins, the histogram may be difficult to read.\n",
        "-   The fun of interacting with data in R is we can play around and\n",
        "    adjust the number of breaks and other options until we are\n",
        "    satisfied."
      ],
      "id": "881002f0-18ea-4da1-98a7-8d71a179d80f"
    },
    {
      "cell_type": "code",
      "execution_count": null,
      "metadata": {
        "id": "e4592f7d-b987-4e49-af1d-033732f88e92"
      },
      "outputs": [],
      "source": [
        "# plots appear in an array with 1 row and 2 columns\n",
        "par(mfrow = c(1, 2))  # create an array of plots\n",
        "\n",
        "# create a histogram\n",
        "hist(storms$wind,  # vector of values to plot\n",
        "     breaks = 5,  # number of bin ranges to use\n",
        "     xlab = \"wind speed (in knots)\",   # x-axis label\n",
        "     xlim = c(0,200),  # sets window for x-axis\n",
        "     ylab = \"Frequency\",  # y-axis label\n",
        "     ylim = c(0,15000),  # sets window for y-axis\n",
        "     main = \"breaks = 5\",  # main label\n",
        "     cex.lab=1.5, cex.axis=1.5, cex.main=1.5,  # increase font size\n",
        "     col = \"steelblue\")  # fill color of bars\n",
        "\n",
        "# create a histogram\n",
        "hist(storms$wind,  # vector of values to plot\n",
        "     breaks = 50,  # number of bin ranges to use\n",
        "     xlab = \"wind speed (in knots)\",   # x-axis label\n",
        "     xlim = c(0,200),  # sets window for x-axis\n",
        "     ylab = \"Frequency\",  # y-axis label\n",
        "     ylim = c(0,3000),  # sets window for y-axis\n",
        "     main = \"breaks = 50\",  # main label\n",
        "     cex.lab=1.5, cex.axis=1.5, cex.main=1.5,  # increase font size\n",
        "     col = \"seagreen\")  # fill color of bars"
      ],
      "id": "e4592f7d-b987-4e49-af1d-033732f88e92"
    },
    {
      "cell_type": "markdown",
      "metadata": {
        "id": "6695cfc5-fdce-4c9c-8cdb-2680fe93410d"
      },
      "source": [
        "## <a name=\"03q7\">Question 7</a>\n",
        "\n",
        "---\n",
        "\n",
        "How would you describe the shape of the distribution of wind speed in the histograms above?\n",
        "\n",
        "### <a name=\"03sol7\">Solution to Question 7</a>\n",
        "\n",
        "---\n",
        "\n",
        "<br> <br> <br>\n",
        "  \n",
        "  \n",
        "\n"
      ],
      "id": "6695cfc5-fdce-4c9c-8cdb-2680fe93410d"
    },
    {
      "cell_type": "markdown",
      "source": [
        "## <a name=\"03q8\">Question 8</a>\n",
        "\n",
        "---\n",
        "\n",
        "Create a histogram to display the quantitative variable `month`. What does the shape of that graph tell you about the data?\n",
        "\n",
        "### <a name=\"03sol8\">Solution to Question 8</a>\n",
        "\n",
        "---\n",
        "\n",
        "<br> <br> <br>\n",
        "  \n",
        "  \n",
        "  "
      ],
      "metadata": {
        "id": "o8q6Eqam00xZ"
      },
      "id": "o8q6Eqam00xZ"
    },
    {
      "cell_type": "markdown",
      "source": [
        "## <a name=\"03q9\">Question 9</a>\n",
        "\n",
        "---\n",
        "\n",
        "Create a histogram to display the quantitative variable `long`. What does the shape of that graph tell you about the data?\n",
        "\n",
        "### <a name=\"03sol9\">Solution to Question 9</a>\n",
        "\n",
        "---\n",
        "\n",
        "  \n",
        "<br> <br> <br>\n",
        "\n",
        "  \n",
        "\n"
      ],
      "metadata": {
        "id": "vobEstVs0yls"
      },
      "id": "vobEstVs0yls"
    },
    {
      "cell_type": "markdown",
      "source": [
        "## <a name=\"03skewness\">The Skewness of Data</a>\n",
        "\n",
        "---\n",
        "\n",
        "The  <font color=\"dodgerblue\">**skewness** </font> of the data describes the direction of the tail of the data. The tail of the data indicates the direction of outliers (if any)."
      ],
      "metadata": {
        "id": "_XwwbJye0xa6"
      },
      "id": "_XwwbJye0xa6"
    },
    {
      "cell_type": "code",
      "execution_count": null,
      "metadata": {
        "id": "6ee93d4e-b9e6-4b36-b652-340b2d25a988"
      },
      "outputs": [],
      "source": [
        "par(mfrow = c(1, 3))  # Create a 1 x 3 array of plots\n",
        "\n",
        "hist(storms$wind,\n",
        "     xlab = \"wind speed (in knots)\",   # x-axis label\n",
        "     ylab = \"Frequency\",  # y-axis label\n",
        "     main = \"Distribution of Wind Speeds\",  # main title\n",
        "     cex.lab=1.5, cex.axis=1.5, cex.main=1.5,  # increase font size\n",
        "     col = \"steelblue\")  # fill color of bars\n",
        "\n",
        "hist(storms$month,\n",
        "     breaks = 12,  # number of breaks\n",
        "     xlab=\"Month\",   # x-axis label\n",
        "     ylab = \"Frequency\",  # y-axis label\n",
        "     main = \"Distribution of Months\",  # main title\n",
        "     cex.lab=1.5, cex.axis=1.5, cex.main=1.5,  # increase font size\n",
        "     col = \"coral1\")  # fill color of bars\n",
        "\n",
        "hist(storms$long,\n",
        "     breaks = 15,  # number of breaks\n",
        "     xlab=\"Degrees of Longitude\",   # x-axis label\n",
        "     ylab = \"Frequency\",  # y-axis label\n",
        "     main = \"Distribution of Longitude\",  # main title\n",
        "     cex.lab=1.5, cex.axis=1.5, cex.main=1.5,  # increase font size\n",
        "     col = \"aquamarine4\")  # fill color of bars"
      ],
      "id": "6ee93d4e-b9e6-4b36-b652-340b2d25a988"
    },
    {
      "cell_type": "markdown",
      "metadata": {
        "id": "8d00505a-b96a-4c71-ad59-0e13a5eb7b35"
      },
      "source": [
        "-   The distribution of wind speeds is\n",
        "     <font color=\"dodgerblue\">**skewed right** </font>.\n",
        "-   The distribution of months is\n",
        "     <font color=\"dodgerblue\">**skewed left** </font>.\n",
        "-   The distribution of longitude is approximately\n",
        "     <font color=\"dodgerblue\">**symmetric** </font>.\n",
        "\n"
      ],
      "id": "8d00505a-b96a-4c71-ad59-0e13a5eb7b35"
    },
    {
      "cell_type": "markdown",
      "source": [
        "# <a name=\"03center\">Measurements of Center</a>\n",
        "\n",
        "---\n",
        "\n",
        "Typical measurements of center are:\n",
        "\n",
        "-   The  <font color=\"dodgerblue\">**mean** </font> is the average\n",
        "    value.\n",
        "\n",
        "$${\\large \\bar{x} = \\frac{\\mbox{sum of all values}}{\\mbox{total number of values}} =  \\sum_{i=1}^{n} \\frac{x_n}{n}}. $$\n",
        "\n",
        "-   We use $\\color{dodgerblue}{\\mathbf{\\bar{x}}}$ (pronounced x-bar) to\n",
        "    denote a  <font color=\"dodgerblue\">**sample** </font> mean.\n",
        "    -   We use $\\color{mediumseagreen}{\\mathbf{\\mu}}$ (Greek letter mu)\n",
        "    to denote a\n",
        "     <font color=\"mediumseagreen\">**population** </font> mean.\n",
        "    -   In R, we use the function `mean()`.\n",
        "-   The  <font color=\"dodgerblue\">**median** </font> is the\n",
        "    $50^{\\mbox{th}}$ percentile. This means 50% of the values in the\n",
        "    data set are less than the median.\n",
        "    -   In R, we use the function `median()`.\n",
        "    - If there are an odd number of values, the median is the middle value.\n",
        "    -   If there are an even number of values, the median is the\n",
        "    midpoint between the two middle values.\n",
        "\n"
      ],
      "metadata": {
        "id": "Mm-_CL7C1sy2"
      },
      "id": "Mm-_CL7C1sy2"
    },
    {
      "cell_type": "markdown",
      "source": [
        "## <a name=\"03q10\">Question 10</a>\n",
        "\n",
        "---\n",
        "\n",
        "Compute the mean and median wind speed of the `storms` data. Interpret\n",
        "each value in practical terms. Be sure to include the units in your\n",
        "interpretation.\n",
        "\n",
        "*Hint: We can input the vector of wind speeds with the code\n",
        "`storms$wind`.*\n",
        "\n",
        "### <a name=\"03sol10\">Solution to Question 10</a>\n",
        "\n",
        "---\n",
        "\n",
        "<br> <br> <br>\n",
        "\n",
        "  \n",
        "  \n",
        "\n"
      ],
      "metadata": {
        "id": "3cW2aJw51ymp"
      },
      "id": "3cW2aJw51ymp"
    },
    {
      "cell_type": "markdown",
      "source": [
        "## <a name=\"03q11\">Question 11</a>\n",
        "\n",
        "---\n",
        "\n",
        "Why do you think the mean wind speed is greater than the median wind\n",
        "speed?\n",
        "\n",
        "### <a name=\"03sol11\">Solution to Question 11</a>\n",
        "\n",
        "---\n",
        "\n",
        "<br> <br> <br>\n",
        "  \n",
        "  \n",
        "\n"
      ],
      "metadata": {
        "id": "PKIAJP9r7xJ1"
      },
      "id": "PKIAJP9r7xJ1"
    },
    {
      "cell_type": "markdown",
      "source": [
        "## <a name=\"03shape-center\">Relation of Shape to Measurements of Center</a>\n",
        "\n",
        "---\n",
        "\n",
        "<figure>\n",
        "<img\n",
        "src=\"https://raw.githubusercontent.com/CU-Denver-MathStats-OER/Statistical-Theory/main/Images/03fig-skewness.png\"\n",
        "alt=\"Image Credit: Adam Spiegler, CC BY-SA 4.0.\" />\n",
        "<figcaption aria-hidden=\"true\">Image Credit: Adam Spiegler, <a\n",
        "href=\"https://creativecommons.org/licenses/by-sa/4.0\">CC BY-SA\n",
        "4.0</a>.</figcaption>\n",
        "</figure>\n",
        "\n",
        "-   The mean is more sensitive to outliers than the median. The mean is\n",
        "    pulled in the direction of the tail.\n",
        "-   If the shape of the histogram is\n",
        "     <font color=\"dodgerblue\">**symmetric** </font>, then the\n",
        "     <font color=\"dodgerblue\">**mean is equal to the\n",
        "    median** </font>.\n",
        "-   If the shape of a histogram is  <font color=\"tomato\">**skewed\n",
        "    to the left** </font>, the  <font color=\"tomato\">**mean is\n",
        "    less than the median** </font>.\n",
        "-   If the shape of a histogram is\n",
        "     <font color=\"mediumseagreen\">**skewed to the right** </font>,\n",
        "    the  <font color=\"mediumseagreen\">**mean is greater than the\n",
        "    median** </font>.\n",
        "\n"
      ],
      "metadata": {
        "id": "d0wsZ2sX7tKL"
      },
      "id": "d0wsZ2sX7tKL"
    },
    {
      "cell_type": "markdown",
      "source": [
        "# <a name=\"03spread\">Measurements of Spread</a>\n",
        "\n",
        "---\n",
        "\n",
        "\n",
        "Typical measurements of spread are:\n",
        "\n",
        "-   The  <font color=\"dodgerblue\">**range = max - min** </font>.\n",
        "    -   The advantage of the range is that it is easy to compute.\n",
        "    -   However, the range ignores all values in the data other than the\n",
        "    maximum and minimum values.\n",
        "-   The  <font color=\"dodgerblue\">**standard deviation** </font>\n",
        "    approximately measures the average distance of all values from the\n",
        "    mean value.\n",
        "    -   For a sample,\n",
        "$$\\color{dodgerblue}{s = \\sqrt{\\dfrac{\\sum_{i=1}^{n} (x_i - \\bar{x})^2}{n-1}}}.$$\n",
        "\n",
        "    -   The standard deviation takes all values into account and thus\n",
        "    involves many calculations. We typically use technology to help!\n",
        "    -   The command `sd(var_name)` computes the sample standard\n",
        "    deviation in R.\n",
        "    -   We use $\\color{dodgerblue}{\\mathbf{s}}$ to denote a\n",
        "     <font color=\"dodgerblue\">**sample** </font> standard\n",
        "    deviation.\n",
        "    -   We use $\\color{tomato}{\\mathbf{\\sigma}}$ (Greek letter sigma) to\n",
        "    denote a  <font color=\"tomato\">**population** </font>\n",
        "    standard deviation.\n",
        "\n",
        "<figure>\n",
        "<img\n",
        "src=\"https://raw.githubusercontent.com/CU-Denver-MathStats-OER/Statistical-Theory/main/Images/03fig-stdev.png\"\n",
        "alt=\"Image Credit: Adam Spiegler, CC BY-SA 4.0.\" />\n",
        "<figcaption aria-hidden=\"true\">Image Credit: Adam Spiegler, <a\n",
        "href=\"https://creativecommons.org/licenses/by-sa/4.0\">CC BY-SA\n",
        "4.0</a>.</figcaption>\n",
        "</figure>\n",
        "\n"
      ],
      "metadata": {
        "id": "kjwqeFNQ539g"
      },
      "id": "kjwqeFNQ539g"
    },
    {
      "cell_type": "markdown",
      "source": [
        "## <a name=\"03q12\">Question 12</a>\n",
        "\n",
        "---\n",
        "\n",
        "Which of the histograms (i)-(vi) has the largest range? The smallest\n",
        "range?\n",
        "\n",
        "### <a name=\"03sol12\">Solution to Question 12</a>\n",
        "\n",
        "---\n",
        "\n",
        "<br> <br> <br>\n",
        "  \n",
        "  \n",
        "\n"
      ],
      "metadata": {
        "id": "QQbL-wgK51fA"
      },
      "id": "QQbL-wgK51fA"
    },
    {
      "cell_type": "markdown",
      "source": [
        "## <a name=\"03q13\">Question 13</a>\n",
        "\n",
        "---\n",
        "\n",
        "Which of the histograms (i)-(vi) has the largest standard deviation? The\n",
        "smallest standard deviation?\n",
        "\n",
        "### <a name=\"03sol13\">Solution to Question 13</a>\n",
        "\n",
        "---\n",
        "\n",
        "<br> <br> <br>\n",
        "\n",
        "  \n",
        "\n"
      ],
      "metadata": {
        "id": "Fjw11-GB5yxO"
      },
      "id": "Fjw11-GB5yxO"
    },
    {
      "cell_type": "markdown",
      "source": [
        "# <a name=\"03quartile\">Quartiles</a>\n",
        "\n",
        "---\n",
        "\n",
        "-   The $25^{\\mbox{th}}$ percentile is called the\n",
        "     <font color=\"dodgerblue\">**first quartile** </font> and is\n",
        "    denoted $\\color{dodgerblue}{\\mathbf{Q_1}}$.\n",
        "    - In R, use the function `quantile(x, probs=0.25)`.\n",
        "-   The $75^{\\mbox{th}}$ percentile is called the\n",
        "     <font color=\"dodgerblue\">**third quartile** </font> and is\n",
        "    denoted $\\color{dodgerblue}{\\mathbf{Q_3}}$.\n",
        "    - In R, use the function `quantile(x, probs = 0.75)`.\n",
        "-   The  <font color=\"dodgerblue\">**Interquartile Range\n",
        "    (IQR)** </font>$\\color{dodgerblue}{=Q_3-Q_1}$.\n",
        "    - In R, use the function `IQR(x)`.\n",
        "-   The  <font color=\"dodgerblue\">**five number summary** </font>\n",
        "    can also provide a good description of the spread of the values\n",
        "    since we know <font color=\"dodgerblue\">**25% of the values fall between each consecutive pair of values**</font>.\n",
        "    $$\\color{dodgerblue}{(\\mbox{min}, Q_1 , \\mbox{median}, Q_3, \\mbox{max} )}$$\n",
        "    -   In R, use the function `fivenum(x)` to compute the five number summary.\n",
        "\n"
      ],
      "metadata": {
        "id": "OfAfR7IC5xJC"
      },
      "id": "OfAfR7IC5xJC"
    },
    {
      "cell_type": "markdown",
      "source": [
        "## <a name=\"03q14\">Question 14</a>\n",
        "\n",
        "---\n",
        "\n",
        "Give the five number summary for the wind speed of all observations in the `storms` data set.\n",
        "\n",
        "### <a name=\"03sol14\">Solution to Question 14</a>\n",
        "\n",
        "---\n",
        "\n",
        "<br> <br> <br>\n",
        "  \n"
      ],
      "metadata": {
        "id": "mYVxGtW32TuM"
      },
      "id": "mYVxGtW32TuM"
    },
    {
      "cell_type": "markdown",
      "source": [
        "## <a name=\"03five-num\">Five Number Summaries and Boxplots</a>\n",
        "\n",
        "---\n",
        "\n",
        "The five number summary for wind speeds is $(10, 30, 45, 65, 165)$.\n",
        "Below is a  <font color=\"dodgerblue\">**boxplot** </font> for this\n",
        "data.\n",
        "\n",
        "- 25% of the wind speeds are between 10 and 30 knots.\n",
        "- 25% of the wind speeds are between 30 and 45 knots.\n",
        "- 25% of the wind speeds are between 45 and 65 knots.\n",
        "- 25% of the wind speeds are between 65 and 165 knots.\n"
      ],
      "metadata": {
        "id": "IzUWc999100R"
      },
      "id": "IzUWc999100R"
    },
    {
      "cell_type": "code",
      "execution_count": null,
      "metadata": {
        "id": "8f83718b-8931-4ad2-b5a9-316b818ef592"
      },
      "outputs": [],
      "source": [
        "boxplot(storms$wind,  # data to plot\n",
        "        main = \"Wind Speeds of Storms\",  # main title\n",
        "        xlab = \"Wind Speed (in knots)\",  # x-axis label\n",
        "        xaxt='n',  # turn off default ticks on x-axis\n",
        "        cex.lab=1.75, cex.axis=1.75, cex.main=1.75,  # increase font size\n",
        "        horizontal = TRUE)  # align horizontally\n",
        "axis(1, at = fivenum(storms$wind))  # add tickmarks at five number summary"
      ],
      "id": "8f83718b-8931-4ad2-b5a9-316b818ef592"
    },
    {
      "cell_type": "markdown",
      "metadata": {
        "id": "330d49b0-c675-42bb-bdab-b295f84b43ba"
      },
      "source": [
        "## <a name=\"03read-boxplot\">How to Read and Create Boxplots</a>\n",
        "\n",
        "---\n",
        "\n",
        "To create a boxplot:\n",
        "\n",
        "-   Find the values of $Q_1$, median, and $Q_3$.\n",
        "-   Draw a box with edges at $Q_1$ and $Q_3$ and line inside the box for the median.\n",
        "-   Identify the upper and lower fence to classify outliers:\n",
        "    -   Upper fence $=Q_3 + 1.5(\\mbox{IQR})$.\n",
        "    -   Lower fence $=Q_1 - 1.5(\\mbox{IQR})$.\n",
        "-   Extend a line (whisker) from the lower edge of box to the smallest observation greater than the lower fence.\n",
        "-   Extend a line (whisker) from the upper edge of the box to the largest\n",
        "    value that is less than the upper fence.\n",
        "-   The observations that are less than the lower fence or greater than\n",
        "    the upper fence are considered\n",
        "     <font color=\"dodgerblue\">**outliers** </font>.\n",
        "     -  Outlier values are marked with individual points.\n",
        "\n"
      ],
      "id": "330d49b0-c675-42bb-bdab-b295f84b43ba"
    },
    {
      "cell_type": "markdown",
      "source": [
        "## <a name=\"03q15\">Question 15</a>\n",
        "\n",
        "---\n",
        "\n",
        "Compute the upper and lower fences for the wind speed observations in\n",
        "`storms`.\n",
        "\n",
        "### <a name=\"03sol15\">Solution to Question 15</a>\n",
        "\n",
        "---\n",
        "\n",
        "<br> <br> <br>\n",
        "  \n",
        "\n"
      ],
      "metadata": {
        "id": "PPSRyEbj92ru"
      },
      "id": "PPSRyEbj92ru"
    },
    {
      "cell_type": "markdown",
      "source": [
        "# <a name=\"03ecdf\">The Empirical Cumulative Distribution Function (ecdf)</a>\n",
        "\n",
        "---\n",
        "\n",
        "A question we often wish to explore is what proportion of values in our data are less or equal to a specified value $x$? To answer this question, we count the total number of observations in our data that are less than or equal to $x$, and then divide by the total number of observations in our data.\n",
        "\n"
      ],
      "metadata": {
        "id": "IUpO9dWZ9zTL"
      },
      "id": "IUpO9dWZ9zTL"
    },
    {
      "cell_type": "markdown",
      "source": [
        "## <a name=\"03counting\">Counting Observations with Logical Statements</a>\n",
        "\n",
        "---\n",
        "\n",
        "To illustrate how we can count observations that satisfy a given condition, consider the a vector of 5 values: $31$, $33$, $34$, $36$, and $38$. We store these values in the vector named `test.data` below. The command `test.data <= 35` applies a logical test to each of the 5 values in the vector:\n",
        "\n",
        "> Is the value less than or equal to 35?\n",
        "\n",
        "Run the code cell below and check the output to verify the test works as expected."
      ],
      "metadata": {
        "id": "f5CiDdCa9JZE"
      },
      "id": "f5CiDdCa9JZE"
    },
    {
      "cell_type": "code",
      "execution_count": null,
      "metadata": {
        "id": "15b8bb94-ae12-4d8f-9389-e5b11a2d8a08"
      },
      "outputs": [],
      "source": [
        "test.data <- c(31, 33, 34, 36, 38)  # vector of test data\n",
        "test.data <= 35  # logical test"
      ],
      "id": "15b8bb94-ae12-4d8f-9389-e5b11a2d8a08"
    },
    {
      "cell_type": "markdown",
      "metadata": {
        "id": "a0cc6be5-28ce-440f-9f6a-b782f10dc687"
      },
      "source": [
        "-   The result `TRUE` is counted as 1.\n",
        "-   The result `FALSE` is counted as 0.\n",
        "-   We can use the `sum()` function to count how many `TRUE` results we have.\n",
        "-   Running the code cell below, we verify that 3 values in `test.data` are less than or equal to 35."
      ],
      "id": "a0cc6be5-28ce-440f-9f6a-b782f10dc687"
    },
    {
      "cell_type": "code",
      "execution_count": null,
      "metadata": {
        "id": "05cede58-fded-46a4-9e4e-100ab33ef84a"
      },
      "outputs": [],
      "source": [
        "sum(test.data <= 35)  # sum the TRUE results"
      ],
      "id": "05cede58-fded-46a4-9e4e-100ab33ef84a"
    },
    {
      "cell_type": "markdown",
      "metadata": {
        "id": "2f000fed-3c3f-484b-b7c5-d329ad25eb62"
      },
      "source": [
        "We can convert the count to a proportion by dividing by the total number of values in our data. Our vector `test.data` has a total of 5 observations; therefore, the proportion of values that are less than or equal to 35 is 3 out of 5 or $0.6$. We can use the `mean()` to count the number of `TRUE` results and divide by the total number of all observations in one command to simplify the code."
      ],
      "id": "2f000fed-3c3f-484b-b7c5-d329ad25eb62"
    },
    {
      "cell_type": "code",
      "execution_count": null,
      "metadata": {
        "id": "6cca637e-5412-485e-b8ab-ff0b42d7223c"
      },
      "outputs": [],
      "source": [
        "mean(test.data <= 35)  # total values <= 35 divided by total number of values"
      ],
      "id": "6cca637e-5412-485e-b8ab-ff0b42d7223c"
    },
    {
      "cell_type": "markdown",
      "metadata": {
        "id": "09949d49-626f-4450-8b2f-424ac62557aa"
      },
      "source": [
        "## <a name=\"03q16\">Question 16</a>\n",
        "\n",
        "---\n",
        "\n",
        "What proportion of observations in `storms$wind` have a wind speed less\n",
        "than or equal to 50 knots?\n",
        "\n",
        "### <a name=\"03sol16\">Solution to Question 16</a>\n",
        "\n",
        "---\n",
        "\n",
        "<br>"
      ],
      "id": "09949d49-626f-4450-8b2f-424ac62557aa"
    },
    {
      "cell_type": "code",
      "execution_count": null,
      "metadata": {
        "id": "9d1842f9-463f-4787-8afd-7304090047b5"
      },
      "outputs": [],
      "source": [
        "# what proportion of observations have wind less than or equal to 50\n"
      ],
      "id": "9d1842f9-463f-4787-8afd-7304090047b5"
    },
    {
      "cell_type": "markdown",
      "metadata": {
        "id": "9d773da6-2984-4e79-9b85-70aad1cb6667"
      },
      "source": [
        "## <a name=\"03formula-ecdf\">What is the Empirical Cumulative Distribution Function?</a>\n",
        "\n",
        "---\n",
        "\n",
        "The  <font color=\"dodgerblue\">**empirical cumulative distribution function (ecdf)** </font> is typically denoted by the notation $\\mathbf{\\color{dodgerblue}{\\widehat{F}(x)}}$. We read the notation $\\hat{F}$ as **F hat**, and we will make use of the hat notation throughout the semester.\n",
        "\n",
        "-   The input $x$ is a value.\n",
        "-   The output $\\widehat{F}(x)$ of the ecdf is the proportion of values in the sample that are less than or equal to $x$.\n",
        "\n",
        "Recall the vector `test.data` contains the values $31$, $33$, $34$, $36$, and $38$. We can express the ecdf as a piecewise function.\n",
        "\n",
        "$$\n",
        "\\widehat{F}(x) = \\left\\{\n",
        "\\begin{array}{ll}\n",
        "0  & x < 31 \\\\\n",
        "0.2 &  31 \\leq x < 33 \\\\\n",
        "0.4 &  33 \\leq x < 34 \\\\\n",
        "0.6 &  34 \\leq x < 36 \\\\\n",
        "0.8 &  36 \\leq x < 38 \\\\\n",
        "1 & x \\geq 38\n",
        "\\end{array} \\right.\n",
        "$$\n",
        "\n"
      ],
      "id": "9d773da6-2984-4e79-9b85-70aad1cb6667"
    },
    {
      "cell_type": "markdown",
      "source": [
        "## <a name=\"03graph-ecdf\">Graphing the Empirical Cumulative Distribution Function</a>\n",
        "\n",
        "---\n",
        "\n",
        "We can plot the ecdf using the `plot.ecdf()` function in R, and the resulting plot is a piecewise, step function."
      ],
      "metadata": {
        "id": "AOBcwsnk_ffg"
      },
      "id": "AOBcwsnk_ffg"
    },
    {
      "cell_type": "code",
      "execution_count": null,
      "metadata": {
        "id": "2d6fef65-8a40-4931-816d-86386b72d24b"
      },
      "outputs": [],
      "source": [
        "plot.ecdf(test.data, col=\"steelblue\",\n",
        "          cex.lab=1.5, cex.axis=1.5, cex.main=1.5)  # increase font size)"
      ],
      "id": "2d6fef65-8a40-4931-816d-86386b72d24b"
    },
    {
      "cell_type": "markdown",
      "metadata": {
        "id": "7e3ddd15-fbff-4a48-aeea-133527d75fe5"
      },
      "source": [
        "## <a name=\"03q17\">Question 17</a>\n",
        "\n",
        "---\n",
        "\n",
        "Complete the statements below to identify some key properties of ecdf’s.\n",
        "\n",
        "### <a name=\"03sol17\">Solution to Question 17</a>\n",
        "\n",
        "---\n",
        "\n",
        "-   The minimum output value of an ecdf is <mark>??</mark>.\n",
        "-   The maximum value output value of an ecdf is <mark>??</mark>.\n",
        "-   The ecdf is a <mark>??</mark> function since as $x$ increases, $\\widehat{F}(x)$\n",
        "    cannot decrease.\n",
        "\n",
        "<br>"
      ],
      "id": "7e3ddd15-fbff-4a48-aeea-133527d75fe5"
    },
    {
      "cell_type": "markdown",
      "source": [
        "## <a name=\"03q18\">Question 18</a>\n",
        "\n",
        "---\n",
        "\n",
        "Plot the empirical cumulative distribution function for the wind speeds\n",
        "in the `storms` data set and check your answer to [Question\n",
        "16](#question-16).\n",
        "\n",
        "### <a name=\"03sol18\">Solution to Question 18</a>\n",
        "\n",
        "---\n",
        "\n",
        "<br>"
      ],
      "metadata": {
        "id": "W_yCLSub_yq6"
      },
      "id": "W_yCLSub_yq6"
    },
    {
      "cell_type": "code",
      "execution_count": null,
      "metadata": {
        "id": "22570fec-df9b-4d98-a455-8b6b5c9a284d"
      },
      "outputs": [],
      "source": [
        "# plot the ecdf for wind speeds in storms"
      ],
      "id": "22570fec-df9b-4d98-a455-8b6b5c9a284d"
    },
    {
      "cell_type": "markdown",
      "metadata": {
        "id": "12c6e7f5-32c1-41d7-bb66-df02d1a01414"
      },
      "source": [
        "# <a name=\"03compare\">Comparing Quantitative and Categorical Data</a>\n",
        "\n",
        "---\n",
        "\n",
        "We have explored some of the categorical variables in the `storms` data set in our work with [Exploring Categorical Data](https://githubtocolab.com/CU-Denver-MathStats-OER/Statistical-Theory/blob/main/Chap1/02-EDA-Categorical.ipynb). We have discussed how we can summarize and plot a quantitative variable. Often in statistics we would like to compare the distribution of a quantitative variable for different classes of a categorical variable. For example, we may be interested in investigating the following:\n",
        "\n",
        "> In which month do storms have the greatest wind speed?\n",
        "\n",
        "We first check the data type of the month variable in `storms` using the `typeof()` function."
      ],
      "id": "12c6e7f5-32c1-41d7-bb66-df02d1a01414"
    },
    {
      "cell_type": "code",
      "execution_count": null,
      "metadata": {
        "id": "62e86930-50f4-492c-9684-36696d59df11"
      },
      "outputs": [],
      "source": [
        "typeof(storms$month)  # check how months is stored"
      ],
      "id": "62e86930-50f4-492c-9684-36696d59df11"
    },
    {
      "cell_type": "markdown",
      "metadata": {
        "id": "b4f30f80-54dc-44f9-885b-50b5efd80b2b"
      },
      "source": [
        "## <a name=\"03factor-month\">Converting a Quantitative Variable to a Categorical Variable with `factor()`</a>\n",
        "\n",
        "---\n",
        "\n",
        "Months were initially stored as decimals. We converted `month` to an integer earlier, and we can see `month` is still stored as an integer. Let’s convert `month` to a `factor` so R will treat each month as a separate class."
      ],
      "id": "b4f30f80-54dc-44f9-885b-50b5efd80b2b"
    },
    {
      "cell_type": "code",
      "execution_count": null,
      "metadata": {
        "id": "4f7acfa0-992c-41ea-a97c-63d0c99cf0b8"
      },
      "outputs": [],
      "source": [
        "storms$month <- factor(storms$month)  # convert month to a categorical variable\n",
        "summary(storms$month)  # check summary output after converting to factor"
      ],
      "id": "4f7acfa0-992c-41ea-a97c-63d0c99cf0b8"
    },
    {
      "cell_type": "markdown",
      "metadata": {
        "id": "12e7c2a7-a3af-41ed-b551-ba1d3248aa10"
      },
      "source": [
        "## <a name=\"03side-by-side\">Side by Side Boxplots with `plot()`</a>\n",
        "\n",
        "---\n",
        "\n",
        "The `plot()` function creates different types of plots depending on the data type and number of variables we enter.\n",
        "\n",
        "-   If `x` is quantitative, `plot(x)` creates an index plot which is generally not too useful.\n",
        "-   If `x` is categorical, `plot(x)` creates a bar chart."
      ],
      "id": "12e7c2a7-a3af-41ed-b551-ba1d3248aa10"
    },
    {
      "cell_type": "code",
      "execution_count": null,
      "metadata": {
        "id": "5ed77140-0c12-40b6-8278-0231a7e5ba67"
      },
      "outputs": [],
      "source": [
        "par(mfrow = c(1,2))  # create a 1 by 2 array of plots\n",
        "plot(storms$month)  # bar chart is created for categorical data\n",
        "plot(storms$wind)  # index plot is created for quantitative data"
      ],
      "id": "5ed77140-0c12-40b6-8278-0231a7e5ba67"
    },
    {
      "cell_type": "markdown",
      "metadata": {
        "id": "da003f50-b308-4217-8433-ffab698e7d87"
      },
      "source": [
        "-   If `x` is categorical and `y` is quantitative,\n",
        "    `plot(y ~ x, data = [name])` creates side by side boxplots, one for\n",
        "    each class of `x`.\n",
        "-   If both `x` and `y` are quantitative variables,\n",
        "    `plot(y ~ x, data = [name])` creates a scatterplot."
      ],
      "id": "da003f50-b308-4217-8433-ffab698e7d87"
    },
    {
      "cell_type": "code",
      "execution_count": null,
      "metadata": {
        "id": "b015c95b-a434-4ca0-9657-5b402b8688bd"
      },
      "outputs": [],
      "source": [
        "par(mfrow = c(1,2))  # create a 1 by 2 array of plots\n",
        "plot(wind ~ month, data = storms)  # side by side boxplots\n",
        "plot(wind ~ pressure, data = storms)  # scatterplot"
      ],
      "id": "b015c95b-a434-4ca0-9657-5b402b8688bd"
    },
    {
      "cell_type": "markdown",
      "metadata": {
        "id": "81da048b-8e81-4109-a467-b519a21b9409"
      },
      "source": [
        "The side by side boxplots created above are hard to read since we have\n",
        "12 boxplots in total. The two months with the most storms data are\n",
        "August and September.\n",
        "\n",
        "> How can we compare storms only in August and September?\n",
        "\n",
        "## <a name=\"03subset-filter\">Subsetting and Filtering Data</a>\n",
        "\n",
        "---\n",
        "\n",
        "We can compare data for only August and September using various methods. One common method is to subset all of the data in `storms` into two separate data frames, one for each month. Below are three different ways we can subset data:\n",
        "\n",
        "- Using the [`subset()`](#03subset) function in base R.\n",
        "- Using the [`filter()`](#03filter) function in the `dplyr` package.\n",
        "- Using [logical statements](#03logic).\n",
        "\n",
        "Other methods exist as well.\n",
        "\n"
      ],
      "id": "81da048b-8e81-4109-a467-b519a21b9409"
    },
    {
      "cell_type": "markdown",
      "source": [
        "### <a name=\"03subset\">The `subset()` Function in Base R</a>\n",
        "\n",
        "---\n",
        "\n",
        "As the name implies, the `subset()` function in base R is a really useful function for subsetting! We can open the help documentation with `?subset` to learn how to apply this function. Below are some examples of different ways we may want to subset the `storms` data to analyze for storms that occurred in August."
      ],
      "metadata": {
        "id": "eTrLf7jOBdFF"
      },
      "id": "eTrLf7jOBdFF"
    },
    {
      "cell_type": "code",
      "execution_count": null,
      "metadata": {
        "id": "33777e72-e0ab-4205-82d9-5771639829ce"
      },
      "outputs": [],
      "source": [
        "# keeps all variables for storms in August\n",
        "aug <- subset(storms, month == \"8\")\n",
        "\n",
        "# keeps only the wind speed variable for August storms\n",
        "aug.wind <- subset(storms, select = wind, month == \"8\")\n",
        "\n",
        "# drop = T drops the column name and creates a vector instead of a data frame\n",
        "aug.wind.vec <- subset(storms, select = wind, month == \"8\", drop = T)"
      ],
      "id": "33777e72-e0ab-4205-82d9-5771639829ce"
    },
    {
      "cell_type": "code",
      "execution_count": null,
      "metadata": {
        "id": "493eb710-82dd-4582-851d-d5016a1dea3a"
      },
      "outputs": [],
      "source": [
        "# we can see all variables are selected\n",
        "head(aug)"
      ],
      "id": "493eb710-82dd-4582-851d-d5016a1dea3a"
    },
    {
      "cell_type": "code",
      "execution_count": null,
      "metadata": {
        "id": "cf4aeb62-fb74-4921-9a5b-ff68ae5c54b7"
      },
      "outputs": [],
      "source": [
        "# just the wind variable is selected\n",
        "head(aug.wind)"
      ],
      "id": "cf4aeb62-fb74-4921-9a5b-ff68ae5c54b7"
    },
    {
      "cell_type": "code",
      "execution_count": null,
      "metadata": {
        "id": "8ab3113b-b8a3-470f-9fdd-b6826cf58bd1"
      },
      "outputs": [],
      "source": [
        "# wind speeds in august stored in a vector\n",
        "head(aug.wind.vec)"
      ],
      "id": "8ab3113b-b8a3-470f-9fdd-b6826cf58bd1"
    },
    {
      "cell_type": "markdown",
      "metadata": {
        "id": "661a596b-5f6c-41cf-9ed9-3afeab405964"
      },
      "source": [
        "## <a name=\"03\">Question 19</a>\n",
        "\n",
        "---\n",
        "\n",
        "Compute the mean and median wind speed of storms in August. Compare the values of the mean and median. What does this tell us about the shape of the data?\n",
        "\n",
        "### <a name=\"03sol19\">Solution to Question 19</a>\n",
        "\n",
        "---\n",
        "\n",
        "<br> <br> <br>\n",
        "  \n",
        "\n"
      ],
      "id": "661a596b-5f6c-41cf-9ed9-3afeab405964"
    },
    {
      "cell_type": "markdown",
      "source": [
        "### <a name=\"03filter\">The `filter()` Function in `dplyr`</a>\n",
        "\n",
        "---\n",
        "\n",
        "Using the `filter` function in `dplyr` package, we can filter out just\n",
        "the August observations.\n",
        "\n",
        "-   Note you need to load the `dplyr` package with a `library()` in\n",
        "    order to use `filter()`.\n",
        "-   We have already loaded `dplyr` since that is where the `storms` data\n",
        "    is found.\n",
        "-   The command below gives the same result as\n",
        "    `subset(storms, month == \"8\")`."
      ],
      "metadata": {
        "id": "66_tRUxJCnFR"
      },
      "id": "66_tRUxJCnFR"
    },
    {
      "cell_type": "code",
      "execution_count": null,
      "metadata": {
        "id": "67ca315c-f9bb-4070-a325-6a307de1ea78"
      },
      "outputs": [],
      "source": [
        "aug2 <- filter(storms, month == \"8\")  # filter requires dplyr package\n",
        "head(aug2)  # selects all variables"
      ],
      "id": "67ca315c-f9bb-4070-a325-6a307de1ea78"
    },
    {
      "cell_type": "markdown",
      "metadata": {
        "id": "ca013064-914a-439e-a4c0-7858710943a6"
      },
      "source": [
        "### <a name=\"03logic\">Using Logical Statements</a>\n",
        "\n",
        "---\n",
        "\n",
        "When writing more complex code such as for loops, it is often useful to subset data using logical statements. For example, `storms[storms$month == \"8\", ]` extracts just the rows that have a `month` value equal to 8."
      ],
      "id": "ca013064-914a-439e-a4c0-7858710943a6"
    },
    {
      "cell_type": "code",
      "execution_count": null,
      "metadata": {
        "id": "49d92d64-3a38-4f75-a0a4-b246aad7a242"
      },
      "outputs": [],
      "source": [
        "# extract rows from storms with month equal to 8\n",
        "aug.logic <- storms[storms$month == \"8\", ]\n",
        "head(aug.logic)"
      ],
      "id": "49d92d64-3a38-4f75-a0a4-b246aad7a242"
    },
    {
      "cell_type": "markdown",
      "metadata": {
        "id": "e198250b-453a-434d-bcb3-4b192454821a"
      },
      "source": [
        "## <a name=\"03q20\">Question 20</a>\n",
        "\n",
        "---\n",
        "\n",
        "Using one of the methods above, create a data frame name `sept` that\n",
        "contains all variables for only the observations that occurred in\n",
        "September.\n",
        "\n",
        "### <a name=\"03sol20\">Solution to Question 20</a>\n",
        "\n",
        "---\n",
        "\n",
        "<br>"
      ],
      "id": "e198250b-453a-434d-bcb3-4b192454821a"
    },
    {
      "cell_type": "code",
      "execution_count": null,
      "metadata": {
        "id": "49e02f59-f468-4d7d-b966-43f8c34c7001"
      },
      "outputs": [],
      "source": [
        "# keeps all variables for storms in September\n"
      ],
      "id": "49e02f59-f468-4d7d-b966-43f8c34c7001"
    },
    {
      "cell_type": "markdown",
      "metadata": {
        "id": "63f871cb-e05f-4e97-a775-ba956a993aef"
      },
      "source": [
        "## <a name=\"03side-boxplot\">Creating Side by Side Boxplots with `boxplot`</a>\n",
        "\n",
        "---\n",
        "\n",
        "Once we have created the data frames `aug` and `sept`, we can create side by side boxplots to compare the wind speeds for storms in these two months."
      ],
      "id": "63f871cb-e05f-4e97-a775-ba956a993aef"
    },
    {
      "cell_type": "code",
      "execution_count": null,
      "metadata": {
        "id": "f0e52ce1-3a1c-4ac3-8107-fc9e56743bb8"
      },
      "outputs": [],
      "source": [
        "# need to answer previous question first\n",
        "boxplot(aug$wind, sept$wind,  # enter two vectors of data\n",
        "        main = \"Comparing Wind Speeds in Aug. and Sept.\",   # main title\n",
        "        xlab = \"Wind Speed (in knots)\",  # x-axis label\n",
        "        horizontal = TRUE,  # align boxplots horizontally\n",
        "        names = c(\"August\", \"September\"),  # label each boxplot\n",
        "        cex.lab=1.5, cex.axis=1.5, cex.main=1.5,  # increase font size\n",
        "        col = c(\"seagreen\", \"steelblue\"))  # fill color for box"
      ],
      "id": "f0e52ce1-3a1c-4ac3-8107-fc9e56743bb8"
    },
    {
      "cell_type": "markdown",
      "metadata": {
        "id": "c8b98d1c-be20-44b8-b710-bbd919d2e71f"
      },
      "source": [
        "## <a name=\"03q21\">Question 21</a>\n",
        "\n",
        "---\n",
        "\n",
        "In which month (August or September) are the wind speeds of storms more\n",
        "severe? What statistics did you use to draw your conclusion?\n",
        "\n",
        "### <a name=\"03sol21\">Solution to Question 21</a>\n",
        "\n",
        "---\n",
        "\n",
        "<br> <br> <br>  \n",
        "  \n",
        "\n"
      ],
      "id": "c8b98d1c-be20-44b8-b710-bbd919d2e71f"
    },
    {
      "cell_type": "markdown",
      "source": [
        "## <a name=\"03q22\">Question 22</a>\n",
        "\n",
        "---\n",
        "\n",
        "Create side by side boxplots to compare the distribution of wind speeds\n",
        "in July, August and September.\n",
        "\n",
        "### <a name=\"03sol22\">Solution to Question 22</a>\n",
        "\n",
        "---\n",
        "\n",
        "<br> <br> <br>  \n",
        "  \n",
        "\n"
      ],
      "metadata": {
        "id": "6EOIOnd4DtJF"
      },
      "id": "6EOIOnd4DtJF"
    },
    {
      "cell_type": "markdown",
      "source": [
        "# <a name=\"CC License\">Creative Commons License Information</a>\n",
        "---\n",
        "\n",
        "\n",
        "![Creative Commons\n",
        "License](https://i.creativecommons.org/l/by-nc-sa/4.0/88x31.png)\n",
        "\n",
        "*Statistical Methods: Exploring the Uncertain* by [Adam\n",
        "Spiegler (University of Colorado Denver)](https://github.com/CU-Denver-MathStats-OER/Statistical-Theory)\n",
        "is licensed under a [Creative Commons\n",
        "Attribution-NonCommercial-ShareAlike 4.0 International\n",
        "License](http://creativecommons.org/licenses/by-nc-sa/4.0/). This work is funded by an [Institutional OER Grant from the Colorado Department of Higher Education (CDHE)](https://cdhe.colorado.gov/educators/administration/institutional-groups/open-educational-resources-in-colorado).\n",
        "\n",
        "For similar interactive OER materials in other courses funded by this project in the Department of Mathematical and Statistical Sciences at the University of Colorado Denver, visit <https://github.com/CU-Denver-MathStats-OER>."
      ],
      "metadata": {
        "id": "J2JfQPEE_lon"
      },
      "id": "J2JfQPEE_lon"
    },
    {
      "cell_type": "code",
      "source": [],
      "metadata": {
        "id": "fJRDD8uQndCP"
      },
      "id": "fJRDD8uQndCP",
      "execution_count": null,
      "outputs": []
    }
  ],
  "nbformat": 4,
  "nbformat_minor": 5,
  "metadata": {
    "kernelspec": {
      "name": "ir",
      "display_name": "R",
      "language": "R"
    },
    "colab": {
      "provenance": []
    }
  }
}