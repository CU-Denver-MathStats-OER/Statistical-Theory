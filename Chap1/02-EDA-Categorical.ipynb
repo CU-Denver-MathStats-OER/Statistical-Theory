{
  "cells": [
    {
      "cell_type": "markdown",
      "metadata": {
        "id": "173b5c5f-ce8e-4ec8-acc4-90252f876600"
      },
      "source": [
        "Click [![Open In Colab](https://colab.research.google.com/assets/colab-badge.svg)](https://githubtocolab.com/CU-Denver-MathStats-OER/Statistical-Theory/blob/main/Chap1/02-EDA-Categorical.ipynb) to open interactive version of the full text section."
      ],
      "id": "173b5c5f-ce8e-4ec8-acc4-90252f876600"
    },
    {
      "cell_type": "markdown",
      "metadata": {
        "id": "71171f8b-2ab4-4152-a673-edf8f330ed33"
      },
      "source": [
        "# <a name=\"02intro\">1.2: Exploring Categorical Data</a>\n",
        "---\n",
        "\n",
        "Additional Reading:\n",
        "\n",
        "-   See [Overview of Plotting Data in R](https://githubtocolab.com/CU-Denver-MathStats-OER/Statistical-Theory/blob/main/Appendix/Overview-of-Plots.ipynb) for further reading and examples about plotting in R.\n",
        "-   See [Fundamentals of Working with Data](https://githubtocolab.com/CU-Denver-MathStats-OER/Statistical-Theory/blob/main/Appendix/Intro-to-Vectors-Dataframes.ipynb) for more information about data types and structures in R.\n",
        "-   The [R Graph Gallery](https://r-graph-gallery.com/) has examples of many other types of graphs.\n",
        "\n"
      ],
      "id": "71171f8b-2ab4-4152-a673-edf8f330ed33"
    },
    {
      "cell_type": "markdown",
      "source": [
        "# <a name=\"02eda\">An Overview of Exploratory Data Analysis</a>\n",
        "---\n",
        "\n",
        "<font color=\"dodgerblue\">**Exploratory data analysis**</font>,\n",
        "or <font color=\"dodgerblue\">**EDA**</font> for short, can be\n",
        "thought of as a cycle:\n",
        "\n",
        "-   Generate questions about our data.\n",
        "-   Search for answers by visualizing, transforming, and modeling our data.\n",
        "-   Use what we learn to refine your questions and/or generate new questions.\n",
        "\n",
        "The main goal of EDA is to develop an understanding of your data. When we ask a question, the question focuses our attention on a specific part of the data set and helps us decide which graphs, models, or transformations to make.\n",
        "\n"
      ],
      "metadata": {
        "id": "FrFHa1x27G5W"
      },
      "id": "FrFHa1x27G5W"
    },
    {
      "cell_type": "markdown",
      "source": [
        "# <a name=\"02load\">Loading the `dplyr` Package</a>\n",
        "---\n",
        "\n",
        "The `dplyr` package is perhaps one of the most useful R packages for\n",
        "<font color=\"dodgerblue\">**data wrangling**</font> and EDA. Data\n",
        "wrangling is generally the cleaning, reorganizing, and transforming data\n",
        "so it can be more easily analyzed. `dplyr` also contains data sets that\n",
        "we can use to practice our wrangling and visualization skills. In this\n",
        "lab, we will work with the data set called `storms`.\n",
        "\n",
        "-   See [official dplyr documentation](https://dplyr.tidyverse.org/articles/dplyr.html) for a comprehensive tutorial.\n",
        "-   **Run the code cell below to load the `dplyr` package.**"
      ],
      "metadata": {
        "id": "uHKSSqrH7IN3"
      },
      "id": "uHKSSqrH7IN3"
    },
    {
      "cell_type": "code",
      "execution_count": null,
      "metadata": {
        "id": "f6594a42-04c5-4ec7-979e-46220a59d39f"
      },
      "outputs": [],
      "source": [
        "# loads dplyr package\n",
        "library(dplyr)"
      ],
      "id": "f6594a42-04c5-4ec7-979e-46220a59d39f"
    },
    {
      "cell_type": "markdown",
      "metadata": {
        "id": "33e8970d-c4a0-457a-8657-4da4029903a4"
      },
      "source": [
        "## <a name=\"02help\">Finding Help Documentation</a>\n",
        "---\n",
        "\n",
        "-   The code cell below opens a glossary tab of all (most?) functions and data in the package `dplyr`."
      ],
      "id": "33e8970d-c4a0-457a-8657-4da4029903a4"
    },
    {
      "cell_type": "code",
      "execution_count": null,
      "metadata": {
        "id": "ef2741d4-68bb-4b57-9d26-996fbc867826"
      },
      "outputs": [],
      "source": [
        "# open glossary of dplyr functions\n",
        "help(package = \"dplyr\")"
      ],
      "id": "ef2741d4-68bb-4b57-9d26-996fbc867826"
    },
    {
      "cell_type": "markdown",
      "metadata": {
        "id": "6d93ba12-33c7-4e3f-a644-35e8fd26c816"
      },
      "source": [
        "-   The code cell below opens a help tab with information about the `storms` data set."
      ],
      "id": "6d93ba12-33c7-4e3f-a644-35e8fd26c816"
    },
    {
      "cell_type": "code",
      "execution_count": null,
      "metadata": {
        "id": "c59097fd-acd4-4e3b-97b8-fd9c2111556e"
      },
      "outputs": [],
      "source": [
        "# opens help tab with info about storms data set\n",
        "?storms"
      ],
      "id": "c59097fd-acd4-4e3b-97b8-fd9c2111556e"
    },
    {
      "cell_type": "markdown",
      "metadata": {
        "id": "d8dc448b-8d1e-4ea7-a3ee-722c9b9db451"
      },
      "source": [
        "# <a name=\"02structure\">The Structure of Data</a>\n",
        "---\n",
        "\n",
        "<font color=\"dodgerblue\">**Data frames**</font> are\n",
        "two-dimensional data objects and are the **fundamental** data structure used by most of R’s libraries of functions and data sets.\n",
        "\n",
        "-   Tabular data is <font color=\"dodgerblue\">**tidy**</font> if each row corresponds to a different observation and each column corresponds to a different variable.\n",
        "\n",
        "Each column of a data frame is a <font color=\"dodgerblue\">**variable**</font> (stored as a **vector**) of possibly different data types.\n",
        "\n",
        "-  If a variable is measured or counted by a number, it is called a <font color=\"dodgerblue\">**quantitative**</font> or <font color=\"dodgerblue\">**numerical**</font> variable.\n",
        "  -  Quantitative variables may be <font color=\"dodgerblue\">**discrete**</font> (integers) or <font color=\"dodgerblue\">**continuous**</font> (decimals).\n",
        "-  If a variable groups observations into different categories or rankings, it is a <font color=\"dodgerblue\">**qualitative**</font> or <font color=\"dodgerblue\">**categorical**</font> variable.\n",
        "  -   The different categories of a qualitative variable are called <font color=\"dodgerblue\">**levels**</font> or <font color=\"dodgerblue\">**classes**</font>.\n",
        "    -   Levels are typically labeled with descriptive character strings or integers.\n",
        "    -   Levels may or may not have an ordering.\n",
        "  - An <font color=\"dodgerblue\">**ordinal variable**</font> is when the levels of a categorical variable do have a specified order.\n"
      ],
      "id": "d8dc448b-8d1e-4ea7-a3ee-722c9b9db451"
    },
    {
      "cell_type": "markdown",
      "source": [
        "# <a name=\"02explore-storms\">Exploring Our Data</a>\n",
        "---\n",
        "\n",
        "Below are some common functions used to get a first introduction to our\n",
        "data:\n",
        "\n",
        "-   `summary(df)` gives numerical summary of all variables in data frame with generic name `df`.\n",
        "-   `glimpse(df)` gives a glimpse of the data frame `df`.\n",
        "-   `str(df)` summarizes the structure of all variables in data frame `df`\n",
        "-   `head(df)` view first 6 rows in data frame.\n",
        "-   `tail(df)` view last 6 rows in data frame.\n",
        "-   `View(df)` to view the full data frame.\n",
        "  -   <font color=\"tomato\">It typically is not recommended to include a `View()` command in your work</font> since that opens the entire data set.\n",
        "  -   The goal of EDA is to provide nice summaries of a data set so we do not need to look at all the raw data!\n",
        "\n"
      ],
      "metadata": {
        "id": "2bCaoVWj7rSu"
      },
      "id": "2bCaoVWj7rSu"
    },
    {
      "cell_type": "markdown",
      "source": [
        "## <a name=\"02q1\">Question 1</a>\n",
        "---\n",
        "\n",
        "Let’s get to know the `storms` data set. Using some (or all) of the\n",
        "commands above, answer the following questions:\n",
        "\n",
        "-   How many observations are in data set `storms`?\n",
        "-   How many variables are `storms`?\n",
        "    -   Which variables are quantitative and which are categorical?\n",
        "    -   Which categorical variables have a ranking? Which do not?\n",
        "-   Hint: Avoid using the `View()` function. Instead, use `head()` or `tail()` if you want to get a sense of what the raw data looks like.\n",
        "\n",
        "<font color=\"dodgerblue\">**Experiment with some of the functions\n",
        "in the code cell below to answer the questions. Then type your answer in\n",
        "the space below.**</font>"
      ],
      "metadata": {
        "id": "tO6NgE1C7tCd"
      },
      "id": "tO6NgE1C7tCd"
    },
    {
      "cell_type": "code",
      "execution_count": null,
      "metadata": {
        "id": "6ddf04e3-2384-42c1-8e86-0c8fc94d0cab"
      },
      "outputs": [],
      "source": [
        "summary(storms)  # summary of each variable in storms\n",
        "#head(storms)  # prints first 6 rows to screen\n",
        "#tail(storms)  # prints last 6 rows to screen\n",
        "#glimpse(storms)  # gives a glimpse of the data set\n",
        "#str(storms)   # summary of data structure"
      ],
      "id": "6ddf04e3-2384-42c1-8e86-0c8fc94d0cab"
    },
    {
      "cell_type": "markdown",
      "metadata": {
        "id": "d073616a-3477-4d67-8c24-fcea0917a70a"
      },
      "source": [
        "### <a name=\"02sol1\">Solution to Question 1</a>\n",
        "---\n",
        "\n",
        "<br> <br> <br> <br>\n",
        "  \n",
        "\n"
      ],
      "id": "d073616a-3477-4d67-8c24-fcea0917a70a"
    },
    {
      "cell_type": "markdown",
      "source": [
        "## <a name=\"02q2\">Question 2</a>\n",
        "---\n",
        "\n",
        "What additional information would you like to know about the `storms`\n",
        "data set that you were unable to find? What questions do you have about\n",
        "the data? In particular, what data is missing and why?\n",
        "\n",
        "### <a name=\"02sol2\">Solution to Question 2</a>\n",
        "---\n",
        "\n",
        "<br> <br> <br> <br>\n",
        "  \n",
        "\n"
      ],
      "metadata": {
        "id": "HeY8dDrM8Tja"
      },
      "id": "HeY8dDrM8Tja"
    },
    {
      "cell_type": "markdown",
      "source": [
        "# <a name=\"02data-types\">Data Types</a>\n",
        "---\n",
        "\n",
        "R has 6 basic [data\n",
        "types](https://cran.r-project.org/doc/manuals/r-release/R-lang.html#Basic-types):\n",
        "\n",
        "1.  <font color=\"dodgerblue\">**character**</font>: collections of characters. E.g., `\"a\"`, `\"hello world!\"`\n",
        "2.  <font color=\"dodgerblue\">**double**</font>: decimal numbers. e.g., `1.2`, `1.0`\n",
        "3.  <font color=\"dodgerblue\">**integer**</font>: whole numbers. In R, you must add `L` to the end of a number to specify it as an integer. E.g., `1L` is an integer but `1` is a double.\n",
        "4.  <font color=\"dodgerblue\">**logical**</font>: Boolean values, `TRUE` and `FALSE`\n",
        "5.  <font color=\"dodgerblue\">**complex**</font>: complex numbers. E.g., `1+3i`\n",
        "6.  <font color=\"dodgerblue\">**raw**</font>: a type to hold raw bytes.\n",
        "\n",
        "See [Fundamentals of Working with\n",
        "Data](https://githubtocolab.com/CU-Denver-MathStats-OER/Statistical-Theory/blob/main/Appendix/Intro-to-Vectors-Dataframes.ipynb)\n",
        "for more information.\n",
        "\n"
      ],
      "metadata": {
        "id": "QWADOcEI8VsP"
      },
      "id": "QWADOcEI8VsP"
    },
    {
      "cell_type": "markdown",
      "source": [
        "## <a name=\"02typeof\">Checking Data Types Using `typeof()`</a>\n",
        "---\n",
        "\n",
        "-   The `typeof()` function returns the R internal type or storage mode\n",
        "    of any object."
      ],
      "metadata": {
        "id": "CjaAnUbv8XKm"
      },
      "id": "CjaAnUbv8XKm"
    },
    {
      "cell_type": "code",
      "execution_count": null,
      "metadata": {
        "id": "76327396-a75e-4593-8738-5bce87c6e0de"
      },
      "outputs": [],
      "source": [
        "typeof(1.0)\n",
        "typeof(2)\n",
        "typeof(3L)\n",
        "typeof(\"hello\")\n",
        "typeof(TRUE)\n",
        "typeof(storms$status)\n",
        "typeof(storms$year)\n",
        "typeof(storms$name)"
      ],
      "id": "76327396-a75e-4593-8738-5bce87c6e0de"
    },
    {
      "cell_type": "markdown",
      "metadata": {
        "id": "e6a1f3c5-86b9-45a5-8976-5844edccdcc2"
      },
      "source": [
        "## <a name=\"02extract\">Extracting a Variable By Name with `$`</a>\n",
        "---\n",
        "\n",
        "In the command `typeof(storms$status)`, notice we refer to just the `status` variable of the `storms` data frame. <font color=\"dodgerblue\">**A variable from a data frame may be extracted using `$` and then specifying the name of the desired variable**.</font>\n",
        "\n",
        "-   First indicate the name of the data frame, `storms`.\n",
        "-   Followed by a dollar sign `$`.\n",
        "-   Then indicate the name of the variable, for example `wind`.\n",
        "-   The `storms$wind` is a vector that contains the wind speed of each storm."
      ],
      "id": "e6a1f3c5-86b9-45a5-8976-5844edccdcc2"
    },
    {
      "cell_type": "code",
      "execution_count": null,
      "metadata": {
        "id": "4dc89878-f7ee-4b9b-83ce-2f13f9b60269"
      },
      "outputs": [],
      "source": [
        "is.vector(storms)  # storms is not a vector\n",
        "is.data.frame(storms)  # storms is a data frame\n",
        "is.data.frame(storms$wind)  # status is not a data frame\n",
        "is.vector(storms$wind)  # status is a vector"
      ],
      "id": "4dc89878-f7ee-4b9b-83ce-2f13f9b60269"
    },
    {
      "cell_type": "markdown",
      "metadata": {
        "id": "c39c373a-8001-4126-8222-bac7bda9d628"
      },
      "source": [
        "## <a name=\"02check-type\">Investigating Data Types with `is.numeric()`</a>\n",
        "---\n",
        "\n",
        "-   The `is.numeric(x)` function tests whether or not an object `x` is numeric.\n",
        "-   The `is.character(x)` function tests whether `x` is a character or not.\n",
        "-   The `is.factor(x)` function tests whether `x` is a factor or not.\n",
        "-   <font color=\"dodgerblue\">**Note: Categorical data is typically stored as a `factor` in R.**</font>"
      ],
      "id": "c39c373a-8001-4126-8222-bac7bda9d628"
    },
    {
      "cell_type": "code",
      "execution_count": null,
      "metadata": {
        "id": "9fde6a9f-03cf-4841-9538-1f81c21c1449"
      },
      "outputs": [],
      "source": [
        "is.numeric(storms$year)  # year is numeric\n",
        "is.numeric(storms$category)  # category is also numeric\n",
        "is.numeric(storms$name)  # name is not numeric\n",
        "is.character(storms$name)  # name is character string"
      ],
      "id": "9fde6a9f-03cf-4841-9538-1f81c21c1449"
    },
    {
      "cell_type": "code",
      "execution_count": null,
      "metadata": {
        "id": "2828a883-877f-442f-b91c-184000bf6b55"
      },
      "outputs": [],
      "source": [
        "is.numeric(storms$status)  # status is not numeric\n",
        "is.character(storms$status)  # status is not a character\n",
        "is.factor(storms$status)  # status is a factor which is categorical"
      ],
      "id": "2828a883-877f-442f-b91c-184000bf6b55"
    },
    {
      "cell_type": "markdown",
      "source": [
        "## <a name=\"02decimal-integer\">Converting Decimals to Integers</a>\n",
        "---\n",
        "\n",
        "From the summary of the `storms` data set we first found above, we see\n",
        "that the variables `year` and `month` are being stored as `double`. These variables actually are integer values.\n",
        "\n",
        "We can convert another variable of one format into another format using\n",
        "`as.[new_datatype]()`\n",
        "\n",
        "-   For example, to convert to year to `integer`, we use `as.integer(storms$year)`.\n",
        "-   To convert a data type to character, we can use `as.character(x)`.\n",
        "-   To convert to a decimal (`double`), we can use `as.numeric(x)`"
      ],
      "metadata": {
        "id": "AUWbzlGV8zX6"
      },
      "id": "AUWbzlGV8zX6"
    },
    {
      "cell_type": "code",
      "execution_count": null,
      "metadata": {
        "id": "10d5a68a-e070-41bf-9ee7-b1c8653e5a5e"
      },
      "outputs": [],
      "source": [
        "typeof(storms$year)\n",
        "typeof(storms$month)\n",
        "storms$year <- as.integer(storms$year)\n",
        "storms$month <- as.integer(storms$month)\n",
        "typeof(storms$year)\n",
        "typeof(storms$month)"
      ],
      "id": "10d5a68a-e070-41bf-9ee7-b1c8653e5a5e"
    },
    {
      "cell_type": "markdown",
      "metadata": {
        "id": "62797f9e-6eae-4f92-9487-3fbc7523af0a"
      },
      "source": [
        "## <a name=\"02factor\">Converting to Categorical Data with `factor()`</a>\n",
        "---\n",
        "\n",
        "Sometimes we think a variable is one data type, but it is actually being stored (and thus interpreted by R) as a different data type. One common issue is categorical data is stored as characters or integers. We would like observations with the same values to be group together.\n",
        "\n",
        "-   The `status` variable in `storms` is being properly stored as a `factor`.\n",
        "-   The `category` variable in `storms` is being stored as a `numeric` since the classes are integers.\n",
        "\n"
      ],
      "id": "62797f9e-6eae-4f92-9487-3fbc7523af0a"
    },
    {
      "cell_type": "code",
      "execution_count": null,
      "metadata": {
        "id": "0ffbd2e7-431e-4806-baf0-0a5ce857f87d"
      },
      "outputs": [],
      "source": [
        "summary(storms$category)"
      ],
      "id": "0ffbd2e7-431e-4806-baf0-0a5ce857f87d"
    },
    {
      "cell_type": "markdown",
      "metadata": {
        "id": "515767a2-035a-4472-972f-4b987a8723d1"
      },
      "source": [
        "The summary of `category` computes statistics such as mean and median. <font color=\"dodgerblue\">**Typically with categorical data, we prefer to count how many observations are in each class of the variable.**</font>\n",
        "\n",
        "-   In the code cell below, we convert `category` to a factor, and then observe the resulting summary."
      ],
      "id": "515767a2-035a-4472-972f-4b987a8723d1"
    },
    {
      "cell_type": "code",
      "execution_count": null,
      "metadata": {
        "id": "b65bee76-b0ae-469a-9554-fd4d590aca67"
      },
      "outputs": [],
      "source": [
        "storms$category <- factor(storms$category)\n",
        "summary(storms$category)"
      ],
      "id": "b65bee76-b0ae-469a-9554-fd4d590aca67"
    },
    {
      "cell_type": "markdown",
      "metadata": {
        "id": "4466b981-700e-4b53-a16a-11f7193ee84b"
      },
      "source": [
        "## <a name=\"02assign\">Assignment of New Objects</a>\n",
        "---\n",
        "\n",
        "Notice in the code cell above, we replace the original integers in the\n",
        "`category` column with a integers that are now stored as different levels of a categorical variable.\n",
        "\n",
        "-   To store a data structure in the computer’s memory we must assign it a name.\n",
        "    -   In this case, we choose to give the variable the same name, an therefore overwrite the original `category` column.\n",
        "-   <font color=\"dodgerblue\">**Data structures can be stored using the assignment operator `<-`.**</font>\n",
        "\n"
      ],
      "id": "4466b981-700e-4b53-a16a-11f7193ee84b"
    },
    {
      "cell_type": "markdown",
      "source": [
        "# <a name=\"02tables\">Frequency and Relative Frequency Tables</a>\n",
        "---\n",
        "\n",
        "-   `table(x)` creates a frequency table for categorical variable `x`.\n",
        "-   `table(x, y)` creates a two-way (or contingency) table for two categorical variables `x` and `y`\n",
        "-   `prop.table([table])` creates a relative frequency table relative to the grand total.\n",
        "    -   The input of `prop.table()` must be a table.\n",
        "    -   `prop.table([table], 1)` creates a relative frequency table relative to total in each row.\n",
        "    -   `prop.table([table], 2)` creates a relative frequency table relative to total in each column.\n"
      ],
      "metadata": {
        "id": "iQVDJG-49exi"
      },
      "id": "iQVDJG-49exi"
    },
    {
      "cell_type": "markdown",
      "source": [
        "## <a name=\"02q3\">Question 3</a>\n",
        "---\n",
        "\n",
        "<font color=\"dodgerblue\">a.</font>  Which month over the period from 1975-2021 had the greatest number of **subtropical** storms? Which table did you use to help answer your question?\n",
        "\n",
        "<br>\n",
        "\n",
        "<font color=\"dodgerblue\">b.</font>  Which month over the period from 1975-2021 had the greatest proportion of **subtropical** storms? Which table did you use to help answer your question?\n",
        "\n",
        "<br>\n",
        "\n",
        "**Run each of the four code cells below, and after interpreting the\n",
        "output of each, answer the questions in the space below.**"
      ],
      "metadata": {
        "id": "EplBUxxW9gYi"
      },
      "id": "EplBUxxW9gYi"
    },
    {
      "cell_type": "code",
      "execution_count": null,
      "metadata": {
        "id": "fc31b07b-8d37-460e-9f25-0bb272338bc4"
      },
      "outputs": [],
      "source": [
        "my.table <- table(storms$month, storms$status)  # gives counts\n",
        "my.table"
      ],
      "id": "fc31b07b-8d37-460e-9f25-0bb272338bc4"
    },
    {
      "cell_type": "code",
      "execution_count": null,
      "metadata": {
        "id": "08e42e4e-5567-4535-be56-7a5ef7bad343"
      },
      "outputs": [],
      "source": [
        "prop.grand <- prop.table(my.table)  # gives proportions relative to grand total\n",
        "round(prop.grand, 4)"
      ],
      "id": "08e42e4e-5567-4535-be56-7a5ef7bad343"
    },
    {
      "cell_type": "code",
      "execution_count": null,
      "metadata": {
        "id": "1673bd10-f798-4cd7-9977-50df96f26d40"
      },
      "outputs": [],
      "source": [
        "prop.row <- prop.table(my.table, 1)  # gives proportions relative to row totals\n",
        "round(prop.row, 4)"
      ],
      "id": "1673bd10-f798-4cd7-9977-50df96f26d40"
    },
    {
      "cell_type": "code",
      "execution_count": null,
      "metadata": {
        "id": "3ed55574-c56e-4990-8901-dbc91a1ce1f6"
      },
      "outputs": [],
      "source": [
        "prop.col <- prop.table(my.table, 2)  # gives proportions relative to column totals\n",
        "round(prop.col, 4)"
      ],
      "id": "3ed55574-c56e-4990-8901-dbc91a1ce1f6"
    },
    {
      "cell_type": "markdown",
      "metadata": {
        "id": "bb69ad00-1542-4dfd-bfaa-ad6942739924"
      },
      "source": [
        "### <a name=\"02q3\">Solution to Question 3</a>\n",
        "---\n",
        "\n",
        "  \n",
        "<br> <br> <br> <br>  \n",
        "  \n",
        "\n"
      ],
      "id": "bb69ad00-1542-4dfd-bfaa-ad6942739924"
    },
    {
      "cell_type": "markdown",
      "source": [
        "# <a name=\"02visual\">Visualizing Categorical Data</a>\n",
        "---\n",
        "\n",
        "There are many different ways we can great visualizations to gain insight into our data and search for possible patterns and relations between different variables.\n",
        "\n",
        "-   **For one categorical variable:** Bar charts (or bar plots) and pie charts are commonly used.\n",
        "-   **For two categorical variables:** Grouped and stacked bar charts are commonly used.\n",
        "\n"
      ],
      "metadata": {
        "id": "KNzVbhHl-El8"
      },
      "id": "KNzVbhHl-El8"
    },
    {
      "cell_type": "markdown",
      "source": [
        "## <a name=\"02plot\">Creating Bar Charts with `plot()`</a>\n",
        "---\n",
        "\n",
        "-   The `plot()` function is the most broadly used function for plotting different data types.\n",
        "-   The type of plot generated by `plot()` depends on the data type(s) and the number of variable(s) we input.\n",
        "    -   If we input one categorical variable that is stored as `factor`, we get a bar chart.\n",
        "    -   If we input one quantitative variable, the plot is typically not very useful.\n",
        "    -   If a categorical variable is stored incorrectly as quantitative, we do not get an appropriate plot.\n",
        "-   If we use `plot()` to display a categorical variable, the variable must be stored as a factor!\n",
        "    -   Recall we converted `category` to a `factor` in a previous code cell.\n",
        "    -   The variable `month` is a quantitative variable."
      ],
      "metadata": {
        "id": "YNPWpxU7-Fwp"
      },
      "id": "YNPWpxU7-Fwp"
    },
    {
      "cell_type": "code",
      "execution_count": null,
      "metadata": {
        "id": "aa8d537c-1932-4515-a86c-0a35e49c1a3e"
      },
      "outputs": [],
      "source": [
        "# plots appear in an array with 1 row and 2 columns\n",
        "par(mfrow = c(1, 2))  # create an array of plots\n",
        "\n",
        "plot(storms$category,  # categorical data\n",
        "     main = \"Hurricanes by Category\",  # main title\n",
        "     xlab = \"Hurricane Category\",  # horizontal axis label\n",
        "     ylab = \"Frequency\",  # vertical axis label\n",
        "     col = \"steelblue\")  # fill color of bars)\n",
        "\n",
        "plot(storms$month,  # quantitative data\n",
        "     main = \"Not Number of Storms in Month\",  # main title\n",
        "     xlab = \"Index (Row of Observation)\",  # horizontal axis label\n",
        "     ylab = \"Month\")  # vertical axis label"
      ],
      "id": "aa8d537c-1932-4515-a86c-0a35e49c1a3e"
    },
    {
      "cell_type": "markdown",
      "metadata": {
        "id": "a45ed021-08ed-45cb-824d-f8e059a92006"
      },
      "source": [
        "## <a name=\"02barplot\">Creating Bar Charts and Pie Charts from a Table</a>\n",
        "---\n",
        "\n",
        "If we want to keep `month` stored as an integer, but would like to create a visualization to display the number of storms that occurred in each month, we can:\n",
        "\n",
        "1.  First use the `table()` function to count how many storms occurred in each month.\n",
        "2.  Then create a bar chart using the `barplot()` function or pie chart using `pie()`."
      ],
      "id": "a45ed021-08ed-45cb-824d-f8e059a92006"
    },
    {
      "cell_type": "code",
      "execution_count": null,
      "metadata": {
        "id": "50099145-4d71-4e96-8c16-2b48ce94bc05"
      },
      "outputs": [],
      "source": [
        "# plots appear in an array with 1 row and 2 columns\n",
        "par(mfrow = c(1, 2))  # create an array of plots\n",
        "\n",
        "month.table <- table(storms$month)  # create table of month counts\n",
        "category.table <- table(storms$category)  # create table of category counts\n",
        "\n",
        "barplot(month.table,  # input table of month counts\n",
        "        main = \"Storms in Each Month\",  # main title\n",
        "        xlab = \"Month\",  # horizontal axis label\n",
        "        ylab = \"Frequency\",  # vertical axis label\n",
        "        col = \"seagreen\")  # fill color of bars\n",
        "\n",
        "pie(category.table,  # input table of category counts\n",
        "    main = \"Hurricanes by Category\")  # main title"
      ],
      "id": "50099145-4d71-4e96-8c16-2b48ce94bc05"
    },
    {
      "cell_type": "markdown",
      "metadata": {
        "id": "5242c5c3-04d4-4863-8758-5fedb8a6a616"
      },
      "source": [
        "Note, `pie()` and `barplot()` both take tables as inputs. Even if a variable is stored as a `factor`, we need to store the counts in a table first.\n",
        "\n",
        "-   The `category` variable in `storms` is stored as a factor, but the code below still crashes."
      ],
      "id": "5242c5c3-04d4-4863-8758-5fedb8a6a616"
    },
    {
      "cell_type": "code",
      "execution_count": null,
      "metadata": {
        "id": "8fdb85bb-e0f0-4cc0-b9cd-b4cf72cc9acf"
      },
      "outputs": [],
      "source": [
        "# see what happens if input is not a table\n",
        "pie(storms$category)"
      ],
      "id": "8fdb85bb-e0f0-4cc0-b9cd-b4cf72cc9acf"
    },
    {
      "cell_type": "markdown",
      "metadata": {
        "id": "e7e45852-3fd5-4ebe-aa27-cd3f7ea110b4"
      },
      "source": [
        "# <a name=\"02two-cat\">Relationship Between Two Categorical Variables</a>\n",
        "---\n",
        "\n",
        "Imagine we would like to compare the number of different category\n",
        "hurricanes that occurred in each month. In this case, we would like to\n",
        "compare two qualitative variables, namely `category` and `month`.\n",
        "\n"
      ],
      "id": "e7e45852-3fd5-4ebe-aa27-cd3f7ea110b4"
    },
    {
      "cell_type": "markdown",
      "source": [
        "## <a name=\"02grouped\">Grouped Frequency Bar Charts</a>\n",
        "---\n",
        "\n",
        "To create a bar chart displaying the number of category hurricanes that occurred in each month:\n",
        "\n",
        "1.  First create a two-way table of counts.\n",
        "  -   The second variable (`month`) is displayed on horizontal axis.\n",
        "  -   We get a separate bar for each level of the first variable (`category`).\n",
        "\n",
        "2.  Input the table into the `barplot()` function.\n",
        "  -   Note the option `beside = TRUE` groups the bars for each month.\n",
        "  -   The default option `beside = FALSE` stacks the bars."
      ],
      "metadata": {
        "id": "CeelEgmX-fOp"
      },
      "id": "CeelEgmX-fOp"
    },
    {
      "cell_type": "code",
      "execution_count": null,
      "metadata": {
        "id": "00208948-6f01-469f-8ed0-b0c7c9807a66"
      },
      "outputs": [],
      "source": [
        "# two-way table of counts of category in each month\n",
        "cat.table <- table(storms$category, storms$month)  # gives counts"
      ],
      "id": "00208948-6f01-469f-8ed0-b0c7c9807a66"
    },
    {
      "cell_type": "code",
      "execution_count": null,
      "metadata": {
        "id": "5d3ef238-e23f-4f79-96a0-74adaa945cea"
      },
      "outputs": [],
      "source": [
        "# create a vector of colors\n",
        "my.colors <- c(\"green\", \"purple\", \"grey\", \"red\", \"blue\")\n",
        "\n",
        "# create side by side bar chart\n",
        "barplot(cat.table,  # use counts from contingency table\n",
        "        beside = TRUE,  # groups side-by-side\n",
        "        main = \"Category Hurricanes By Month\",  # main title\n",
        "        xlab = \"Month\",  # horizontal axis label\n",
        "        col = my.colors,  # fill color of bars\n",
        "        ylab = \"Frequency\")  # vertical axis label\n",
        "\n",
        "# add a legend to plot\n",
        "legend(x=\"topleft\",  # place legend in top left\n",
        "       legend=rownames(cat.table),  # get labels from row name in contingency table\n",
        "       fill = my.colors)  # use same fill colors"
      ],
      "id": "5d3ef238-e23f-4f79-96a0-74adaa945cea"
    },
    {
      "cell_type": "markdown",
      "metadata": {
        "id": "79b1193c-e431-49c7-93c7-a834b405ee0d"
      },
      "source": [
        "## <a name=\"02stacked\">Stacked Relative Frequency Bar Charts</a>\n",
        "---\n",
        "\n",
        "To create a bar chart displaying the relative frequency (or proportion)\n",
        "of category hurricanes that occurred in each month:\n",
        "\n",
        "1.  First create a two-way table of relative frequencies.\n",
        "  -   Pay attention to whether you want the proportions relative to grand, row, or column totals.\n",
        "\n",
        "2.  Input the table into the `barplot()` function.\n",
        "  -   The default option `beside = FALSE` stacks the bars."
      ],
      "id": "79b1193c-e431-49c7-93c7-a834b405ee0d"
    },
    {
      "cell_type": "code",
      "execution_count": null,
      "metadata": {
        "id": "1b1e21a7-1843-4856-b17c-52298699fa3e"
      },
      "outputs": [],
      "source": [
        "cat.grand <- prop.table(cat.table)  # gives proportions relative to grand total\n",
        "cat.row <- prop.table(cat.table, 1)  # gives proportions relative to row totals\n",
        "cat.col <- prop.table(cat.table, 2)  # gives proportions relative to column totals"
      ],
      "id": "1b1e21a7-1843-4856-b17c-52298699fa3e"
    },
    {
      "cell_type": "code",
      "execution_count": null,
      "metadata": {
        "id": "b214605f-0650-4d2d-8f4a-eeb39b2772ba"
      },
      "outputs": [],
      "source": [
        "# create a vector of colors\n",
        "#my.colors <- c(\"green\", \"purple\", \"grey\", \"red\", \"blue\")\n",
        "\n",
        "par(mfrow = c(1, 3))  # create an array of plots\n",
        "\n",
        "# create stacked bar chart 1\n",
        "barplot(cat.grand,  # use proportions from contingency table\n",
        "        main = \"Category Hurricanes By Month\",  # main title\n",
        "        xlab = \"Month\",  # horizontal axis label\n",
        "        col = my.colors,  # color of bars\n",
        "        ylab = \"Proportion\")  # vertical axis label\n",
        "\n",
        "# add legend to plot\n",
        "legend(x=\"topleft\",  # place legend in top left\n",
        "       legend=rownames(cat.grand),  # get labels\n",
        "       fill = my.colors)  # use same colors\n",
        "\n",
        "##########\n",
        "\n",
        "# create stacked bar chart 2\n",
        "barplot(cat.row,  # use proportions from contingency table\n",
        "        main = \"Category Hurricanes By Month\",  # main title\n",
        "        xlab = \"Month\",  # horizontal axis label\n",
        "        col = my.colors,  # color of bars\n",
        "        ylab = \"Proportion\")  # vertical axis label\n",
        "\n",
        "# add legend to plot\n",
        "legend(x=\"topleft\",  # place legend in top left\n",
        "       legend=rownames(cat.row),  # get labels\n",
        "       fill = my.colors)  # use same colors\n",
        "\n",
        "###########\n",
        "\n",
        "# create stacked bar chart 3\n",
        "barplot(cat.col,  # use proportions from contingency table\n",
        "        main = \"Category Hurricanes By Month\",  # main title\n",
        "        xlab = \"Month\",  # horizontal axis label\n",
        "        col = my.colors,  # color of bars\n",
        "        ylab = \"Proportion\")  # vertical axis label\n",
        "\n",
        "# add legend to plot\n",
        "legend(x=\"topleft\",  # place legend in top left\n",
        "       legend=rownames(cat.col),  # get labels\n",
        "       fill = my.colors)  # use same colors"
      ],
      "id": "b214605f-0650-4d2d-8f4a-eeb39b2772ba"
    },
    {
      "cell_type": "markdown",
      "source": [
        "<font color=\"tomato\">*Note: A proportion greater than 1 in the middle bar chart means, for example, the sum of the all September proportions (one relative to each category total) adds up to $2.8$ since in 4 out of the 5 possible hurricane categories September accounts for over half the total.*</font>"
      ],
      "metadata": {
        "id": "TWp28xh0kV5v"
      },
      "id": "TWp28xh0kV5v"
    },
    {
      "cell_type": "markdown",
      "metadata": {
        "id": "b7ee7409-849a-42b3-a4ea-8509c148d29a"
      },
      "source": [
        "## <a name=\"02q4\">Question 4</a>\n",
        "---\n",
        "\n",
        "Based on the three plots generated in the previous code cell, answer the\n",
        "questions below.\n",
        "\n",
        "<font color=\"dodgerblue\">a.</font>  Which month has the most hurricanes?\n",
        "\n",
        "<font color=\"dodgerblue\">b.</font>  In which month is the proportion of category 1 hurricanes greatest?\n",
        "\n",
        "### <a name=\"02sol4\">Solution to Question 4</a>\n",
        "---\n",
        "\n",
        "<br> <br> <br> <br>\n",
        "  \n",
        "  \n",
        "\n"
      ],
      "id": "b7ee7409-849a-42b3-a4ea-8509c148d29a"
    },
    {
      "cell_type": "markdown",
      "source": [
        "## <a name=\"02q5\">Question 5</a>\n",
        "---\n",
        "\n",
        "What are the the differences in the three plots in the output of the\n",
        "previous code cell? Which of the three bar plots above do you believe\n",
        "best visualizes the occurrence of different category hurricanes by\n",
        "month? Which plot do you think is the least useful overall? Explain why.\n",
        "\n",
        "### <a name=\"02sol5\">Solution to Question 5</a>\n",
        "---\n",
        "\n",
        "<br> <br> <br> <br>\n"
      ],
      "metadata": {
        "id": "UDOFiiSa_KBH"
      },
      "id": "UDOFiiSa_KBH"
    },
    {
      "cell_type": "markdown",
      "metadata": {
        "id": "a453f72d-3fa7-48b2-b90b-e3ae1e941879"
      },
      "source": [
        "# <a name=\"02gss-intro\">Exploring the General Social Survey Data Set</a>\n",
        "---\n",
        "\n",
        "The data set `gss_cat` can be accessed from the `forcats` package. Below\n",
        "is a quote taken from the website of the [GSS Data Explorer\n",
        "website](https://gssdataexplorer.norc.org/about) maintained by NORC at\n",
        "the University of Chicago\n",
        "\n",
        "> The General Social Survey (GSS) is a project of NORC at the University\n",
        "> of Chicago, with principal funding from the National Science\n",
        "> Foundation. Since 1972, the GSS has been monitoring societal change\n",
        "> and studying the growing complexity of American society.\n",
        "\n",
        "> The GSS is a publicly available national resource, and is one of the\n",
        "> most frequently analyzed sources of information in the social\n",
        "> sciences. GSS Data Explorer is one of many ways that NORC supports the\n",
        "> dissemination of GSS data for use by legislators, policymakers,\n",
        "> researchers, educators and others."
      ],
      "id": "a453f72d-3fa7-48b2-b90b-e3ae1e941879"
    },
    {
      "cell_type": "code",
      "execution_count": null,
      "metadata": {
        "id": "df449420-5ace-4dda-9f4e-1e5f0c76ee42"
      },
      "outputs": [],
      "source": [
        "# load the forcats package\n",
        "library(forcats)"
      ],
      "id": "df449420-5ace-4dda-9f4e-1e5f0c76ee42"
    },
    {
      "cell_type": "code",
      "execution_count": null,
      "metadata": {
        "id": "d50003bd-b15f-4bad-a4de-fc2323a9a3eb"
      },
      "outputs": [],
      "source": [
        "# open help documentation for gss_cat\n",
        "?gss_cat"
      ],
      "id": "d50003bd-b15f-4bad-a4de-fc2323a9a3eb"
    },
    {
      "cell_type": "code",
      "execution_count": null,
      "metadata": {
        "id": "30227b4d-cc96-46d5-9a0b-77a3653a7fb9"
      },
      "outputs": [],
      "source": [
        "# get numerical summary of variables\n",
        "summary(gss_cat)"
      ],
      "id": "30227b4d-cc96-46d5-9a0b-77a3653a7fb9"
    },
    {
      "cell_type": "markdown",
      "metadata": {
        "id": "3ef8bdfb-c80b-4dc9-991d-12d059541373"
      },
      "source": [
        "## <a name=\"02q6\">Question 6</a>\n",
        "---\n",
        "\n",
        "Create a plot to visualize one categorical variable in the `gss_cat`\n",
        "data set. Based on your plot, comment on any interesting features of the\n",
        "variable you plotted."
      ],
      "id": "3ef8bdfb-c80b-4dc9-991d-12d059541373"
    },
    {
      "cell_type": "code",
      "execution_count": null,
      "metadata": {
        "id": "eaefefce-9bbc-4ed2-ad8a-3ab948595219"
      },
      "outputs": [],
      "source": [
        "# create a visualization for one categorical variable"
      ],
      "id": "eaefefce-9bbc-4ed2-ad8a-3ab948595219"
    },
    {
      "cell_type": "markdown",
      "metadata": {
        "id": "65a19c74-4047-43de-94ef-4c7c1132b074"
      },
      "source": [
        "### <a name=\"02sol6\">Solution to Question 6</a>\n",
        "---\n",
        "\n",
        "<br> <br> <br> <br>\n",
        "  \n",
        "  \n",
        "\n"
      ],
      "id": "65a19c74-4047-43de-94ef-4c7c1132b074"
    },
    {
      "cell_type": "markdown",
      "source": [
        "## <a name=\"02q7\">Question 7\n",
        "---\n",
        "\n",
        "Create a plot to visualize the relationship between two categorical\n",
        "variables in the `gss_cat` data set. Based on your plot, comment on any\n",
        "interesting features or relations between two the variables you plotted."
      ],
      "metadata": {
        "id": "5v-XQ4e6_xWa"
      },
      "id": "5v-XQ4e6_xWa"
    },
    {
      "cell_type": "code",
      "execution_count": null,
      "metadata": {
        "id": "09cf175e-67ee-4258-b0fe-7a891fc42d53"
      },
      "outputs": [],
      "source": [
        "# create a visualization to illustrate the relation\n",
        "# between two categorical variables"
      ],
      "id": "09cf175e-67ee-4258-b0fe-7a891fc42d53"
    },
    {
      "cell_type": "markdown",
      "metadata": {
        "id": "6be1f03d-f64a-4801-8327-dbe4fafe960c"
      },
      "source": [
        "### <a name=\"02sol7\">Solution to Question 7</a>\n",
        "---\n",
        "\n",
        "<br> <br> <br> <br>\n",
        "  \n",
        "\n"
      ],
      "id": "6be1f03d-f64a-4801-8327-dbe4fafe960c"
    },
    {
      "cell_type": "markdown",
      "source": [
        "# <a name=\"CC License\">Creative Commons License Information</a>\n",
        "---\n",
        "\n",
        "![Creative Commons\n",
        "License](https://i.creativecommons.org/l/by-nc-sa/4.0/88x31.png)\n",
        "\n",
        "*Statistical Methods: Exploring the Uncertain* by [Adam\n",
        "Spiegler (University of Colorado Denver)](https://github.com/CU-Denver-MathStats-OER/Statistical-Theory)\n",
        "is licensed under a [Creative Commons\n",
        "Attribution-NonCommercial-ShareAlike 4.0 International\n",
        "License](http://creativecommons.org/licenses/by-nc-sa/4.0/). This work is funded by an [Institutional OER Grant from the Colorado Department of Higher Education (CDHE)](https://cdhe.colorado.gov/educators/administration/institutional-groups/open-educational-resources-in-colorado).\n",
        "\n",
        "For similar interactive OER materials in other courses funded by this project in the Department of Mathematical and Statistical Sciences at the University of Colorado Denver, visit <https://github.com/CU-Denver-MathStats-OER>."
      ],
      "metadata": {
        "id": "J2JfQPEE_lon"
      },
      "id": "J2JfQPEE_lon"
    },
    {
      "cell_type": "code",
      "source": [],
      "metadata": {
        "id": "lJdcnmhb_sv1"
      },
      "id": "lJdcnmhb_sv1",
      "execution_count": null,
      "outputs": []
    }
  ],
  "nbformat": 4,
  "nbformat_minor": 5,
  "metadata": {
    "kernelspec": {
      "name": "ir",
      "display_name": "R",
      "language": "R"
    },
    "colab": {
      "provenance": []
    }
  }
}